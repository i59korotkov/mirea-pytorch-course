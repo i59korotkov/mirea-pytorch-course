{
  "nbformat": 4,
  "nbformat_minor": 0,
  "metadata": {
    "colab": {
      "provenance": [],
      "collapsed_sections": [
        "EShwaJUpigbf",
        "SE_-SpH-mtFc",
        "mV8n8faxvOQO",
        "W4qhspuX3zOE",
        "mzgpHI4wuaPq",
        "Am-la7kqCDEl",
        "mleBdxygtTPs",
        "64d_Ywznwgbn",
        "YS4WszpAvJl4",
        "7bIrvcYJ_5jK",
        "-B0jOvkQE4MQ",
        "9P9bWaC9QQJm",
        "TRxJxcRJQsMz",
        "MRuSrP7JQ00i",
        "1b95Z8u7Q3OL",
        "OiPV2u5zfwyo",
        "uEf1aXsdgLBh",
        "_Z2Ot37UODKM"
      ]
    },
    "kernelspec": {
      "name": "python3",
      "display_name": "Python 3"
    },
    "language_info": {
      "name": "python"
    },
    "gpuClass": "standard",
    "accelerator": "GPU",
    "widgets": {
      "application/vnd.jupyter.widget-state+json": {
        "705afd5bfdc34cffb6819af641bfcba7": {
          "model_module": "@jupyter-widgets/controls",
          "model_name": "HBoxModel",
          "model_module_version": "1.5.0",
          "state": {
            "_dom_classes": [],
            "_model_module": "@jupyter-widgets/controls",
            "_model_module_version": "1.5.0",
            "_model_name": "HBoxModel",
            "_view_count": null,
            "_view_module": "@jupyter-widgets/controls",
            "_view_module_version": "1.5.0",
            "_view_name": "HBoxView",
            "box_style": "",
            "children": [
              "IPY_MODEL_ac377df38a5240ca85e154d7687e7649",
              "IPY_MODEL_e13ff9e2d9b143fbb4d62ed0be9b58d1",
              "IPY_MODEL_255793bf28534709a4849f14d6471eea"
            ],
            "layout": "IPY_MODEL_cbdba1d35200459db5c9174b67ab8df6"
          }
        },
        "ac377df38a5240ca85e154d7687e7649": {
          "model_module": "@jupyter-widgets/controls",
          "model_name": "HTMLModel",
          "model_module_version": "1.5.0",
          "state": {
            "_dom_classes": [],
            "_model_module": "@jupyter-widgets/controls",
            "_model_module_version": "1.5.0",
            "_model_name": "HTMLModel",
            "_view_count": null,
            "_view_module": "@jupyter-widgets/controls",
            "_view_module_version": "1.5.0",
            "_view_name": "HTMLView",
            "description": "",
            "description_tooltip": null,
            "layout": "IPY_MODEL_3928946b91c14866862f4de423bbcb4a",
            "placeholder": "​",
            "style": "IPY_MODEL_3260acf60a8e470a868347618f33b7ab",
            "value": " 16%"
          }
        },
        "e13ff9e2d9b143fbb4d62ed0be9b58d1": {
          "model_module": "@jupyter-widgets/controls",
          "model_name": "FloatProgressModel",
          "model_module_version": "1.5.0",
          "state": {
            "_dom_classes": [],
            "_model_module": "@jupyter-widgets/controls",
            "_model_module_version": "1.5.0",
            "_model_name": "FloatProgressModel",
            "_view_count": null,
            "_view_module": "@jupyter-widgets/controls",
            "_view_module_version": "1.5.0",
            "_view_name": "ProgressView",
            "bar_style": "danger",
            "description": "",
            "description_tooltip": null,
            "layout": "IPY_MODEL_0d43ca1bdc084e94906b0d041d26dd3c",
            "max": 1000000,
            "min": 0,
            "orientation": "horizontal",
            "style": "IPY_MODEL_35da66dbe2b8484ebcc701f373058cf3",
            "value": 158952
          }
        },
        "255793bf28534709a4849f14d6471eea": {
          "model_module": "@jupyter-widgets/controls",
          "model_name": "HTMLModel",
          "model_module_version": "1.5.0",
          "state": {
            "_dom_classes": [],
            "_model_module": "@jupyter-widgets/controls",
            "_model_module_version": "1.5.0",
            "_model_name": "HTMLModel",
            "_view_count": null,
            "_view_module": "@jupyter-widgets/controls",
            "_view_module_version": "1.5.0",
            "_view_name": "HTMLView",
            "description": "",
            "description_tooltip": null,
            "layout": "IPY_MODEL_c98dc0ac9c084bd9842c7b01e9fed3f7",
            "placeholder": "​",
            "style": "IPY_MODEL_b22b81da72db4b7b9030de8e68c8b47b",
            "value": " 158952/1000000 [05:25&lt;27:02, 518.40it/s]"
          }
        },
        "cbdba1d35200459db5c9174b67ab8df6": {
          "model_module": "@jupyter-widgets/base",
          "model_name": "LayoutModel",
          "model_module_version": "1.2.0",
          "state": {
            "_model_module": "@jupyter-widgets/base",
            "_model_module_version": "1.2.0",
            "_model_name": "LayoutModel",
            "_view_count": null,
            "_view_module": "@jupyter-widgets/base",
            "_view_module_version": "1.2.0",
            "_view_name": "LayoutView",
            "align_content": null,
            "align_items": null,
            "align_self": null,
            "border": null,
            "bottom": null,
            "display": null,
            "flex": null,
            "flex_flow": null,
            "grid_area": null,
            "grid_auto_columns": null,
            "grid_auto_flow": null,
            "grid_auto_rows": null,
            "grid_column": null,
            "grid_gap": null,
            "grid_row": null,
            "grid_template_areas": null,
            "grid_template_columns": null,
            "grid_template_rows": null,
            "height": null,
            "justify_content": null,
            "justify_items": null,
            "left": null,
            "margin": null,
            "max_height": null,
            "max_width": null,
            "min_height": null,
            "min_width": null,
            "object_fit": null,
            "object_position": null,
            "order": null,
            "overflow": null,
            "overflow_x": null,
            "overflow_y": null,
            "padding": null,
            "right": null,
            "top": null,
            "visibility": null,
            "width": null
          }
        },
        "3928946b91c14866862f4de423bbcb4a": {
          "model_module": "@jupyter-widgets/base",
          "model_name": "LayoutModel",
          "model_module_version": "1.2.0",
          "state": {
            "_model_module": "@jupyter-widgets/base",
            "_model_module_version": "1.2.0",
            "_model_name": "LayoutModel",
            "_view_count": null,
            "_view_module": "@jupyter-widgets/base",
            "_view_module_version": "1.2.0",
            "_view_name": "LayoutView",
            "align_content": null,
            "align_items": null,
            "align_self": null,
            "border": null,
            "bottom": null,
            "display": null,
            "flex": null,
            "flex_flow": null,
            "grid_area": null,
            "grid_auto_columns": null,
            "grid_auto_flow": null,
            "grid_auto_rows": null,
            "grid_column": null,
            "grid_gap": null,
            "grid_row": null,
            "grid_template_areas": null,
            "grid_template_columns": null,
            "grid_template_rows": null,
            "height": null,
            "justify_content": null,
            "justify_items": null,
            "left": null,
            "margin": null,
            "max_height": null,
            "max_width": null,
            "min_height": null,
            "min_width": null,
            "object_fit": null,
            "object_position": null,
            "order": null,
            "overflow": null,
            "overflow_x": null,
            "overflow_y": null,
            "padding": null,
            "right": null,
            "top": null,
            "visibility": null,
            "width": null
          }
        },
        "3260acf60a8e470a868347618f33b7ab": {
          "model_module": "@jupyter-widgets/controls",
          "model_name": "DescriptionStyleModel",
          "model_module_version": "1.5.0",
          "state": {
            "_model_module": "@jupyter-widgets/controls",
            "_model_module_version": "1.5.0",
            "_model_name": "DescriptionStyleModel",
            "_view_count": null,
            "_view_module": "@jupyter-widgets/base",
            "_view_module_version": "1.2.0",
            "_view_name": "StyleView",
            "description_width": ""
          }
        },
        "0d43ca1bdc084e94906b0d041d26dd3c": {
          "model_module": "@jupyter-widgets/base",
          "model_name": "LayoutModel",
          "model_module_version": "1.2.0",
          "state": {
            "_model_module": "@jupyter-widgets/base",
            "_model_module_version": "1.2.0",
            "_model_name": "LayoutModel",
            "_view_count": null,
            "_view_module": "@jupyter-widgets/base",
            "_view_module_version": "1.2.0",
            "_view_name": "LayoutView",
            "align_content": null,
            "align_items": null,
            "align_self": null,
            "border": null,
            "bottom": null,
            "display": null,
            "flex": null,
            "flex_flow": null,
            "grid_area": null,
            "grid_auto_columns": null,
            "grid_auto_flow": null,
            "grid_auto_rows": null,
            "grid_column": null,
            "grid_gap": null,
            "grid_row": null,
            "grid_template_areas": null,
            "grid_template_columns": null,
            "grid_template_rows": null,
            "height": null,
            "justify_content": null,
            "justify_items": null,
            "left": null,
            "margin": null,
            "max_height": null,
            "max_width": null,
            "min_height": null,
            "min_width": null,
            "object_fit": null,
            "object_position": null,
            "order": null,
            "overflow": null,
            "overflow_x": null,
            "overflow_y": null,
            "padding": null,
            "right": null,
            "top": null,
            "visibility": null,
            "width": null
          }
        },
        "35da66dbe2b8484ebcc701f373058cf3": {
          "model_module": "@jupyter-widgets/controls",
          "model_name": "ProgressStyleModel",
          "model_module_version": "1.5.0",
          "state": {
            "_model_module": "@jupyter-widgets/controls",
            "_model_module_version": "1.5.0",
            "_model_name": "ProgressStyleModel",
            "_view_count": null,
            "_view_module": "@jupyter-widgets/base",
            "_view_module_version": "1.2.0",
            "_view_name": "StyleView",
            "bar_color": null,
            "description_width": ""
          }
        },
        "c98dc0ac9c084bd9842c7b01e9fed3f7": {
          "model_module": "@jupyter-widgets/base",
          "model_name": "LayoutModel",
          "model_module_version": "1.2.0",
          "state": {
            "_model_module": "@jupyter-widgets/base",
            "_model_module_version": "1.2.0",
            "_model_name": "LayoutModel",
            "_view_count": null,
            "_view_module": "@jupyter-widgets/base",
            "_view_module_version": "1.2.0",
            "_view_name": "LayoutView",
            "align_content": null,
            "align_items": null,
            "align_self": null,
            "border": null,
            "bottom": null,
            "display": null,
            "flex": null,
            "flex_flow": null,
            "grid_area": null,
            "grid_auto_columns": null,
            "grid_auto_flow": null,
            "grid_auto_rows": null,
            "grid_column": null,
            "grid_gap": null,
            "grid_row": null,
            "grid_template_areas": null,
            "grid_template_columns": null,
            "grid_template_rows": null,
            "height": null,
            "justify_content": null,
            "justify_items": null,
            "left": null,
            "margin": null,
            "max_height": null,
            "max_width": null,
            "min_height": null,
            "min_width": null,
            "object_fit": null,
            "object_position": null,
            "order": null,
            "overflow": null,
            "overflow_x": null,
            "overflow_y": null,
            "padding": null,
            "right": null,
            "top": null,
            "visibility": null,
            "width": null
          }
        },
        "b22b81da72db4b7b9030de8e68c8b47b": {
          "model_module": "@jupyter-widgets/controls",
          "model_name": "DescriptionStyleModel",
          "model_module_version": "1.5.0",
          "state": {
            "_model_module": "@jupyter-widgets/controls",
            "_model_module_version": "1.5.0",
            "_model_name": "DescriptionStyleModel",
            "_view_count": null,
            "_view_module": "@jupyter-widgets/base",
            "_view_module_version": "1.2.0",
            "_view_name": "StyleView",
            "description_width": ""
          }
        }
      }
    }
  },
  "cells": [
    {
      "cell_type": "markdown",
      "source": [
        "# Семинар 1\n",
        "**План семинара:**\n",
        "1. Получение информации об оборудовании\n",
        "2. Библиотека Pytorch\n",
        "  - установка (Windows/Linux(Google Colab); CPU/GPU)\n",
        "  - обзор возможностей и особенностей\n",
        "  - запуск простейших примеров\n",
        "3. Введение в глубокое обучение\n",
        "  - перцептрон (решение практических задач)"
      ],
      "metadata": {
        "id": "EShwaJUpigbf"
      }
    },
    {
      "cell_type": "markdown",
      "source": [
        "# Получение информации об оборудовании"
      ],
      "metadata": {
        "id": "SE_-SpH-mtFc"
      }
    },
    {
      "cell_type": "markdown",
      "source": [
        "**Windows** - GUI\\\n",
        "**Linux** (Google colab) - terminal"
      ],
      "metadata": {
        "id": "lnGz2Eopm3ag"
      }
    },
    {
      "cell_type": "code",
      "source": [
        "# версия Linux\n",
        "!cat /proc/version"
      ],
      "metadata": {
        "colab": {
          "base_uri": "https://localhost:8080/"
        },
        "id": "vPDZJB92omAL",
        "outputId": "38fc5ba3-f7ff-4343-cb91-fc3384801b08"
      },
      "execution_count": null,
      "outputs": [
        {
          "output_type": "stream",
          "name": "stdout",
          "text": [
            "Linux version 5.10.133+ (builder@b1018906abc3) (Chromium OS 12.0_pre422132_p20210405-r10 clang version 13.0.0 (/var/tmp/portage/sys-devel/llvm-12.0_pre422132_p20210405-r10/work/llvm-12.0_pre422132_p20210405/clang cd442157cff4aad209ae532cbf031abbe10bc1df), LLD 13.0.0 (/var/tmp/portage/sys-devel/llvm-12.0_pre422132_p20210405-r10/work/llvm-12.0_pre422132_p20210405/lld cd442157cff4aad209ae532cbf031abbe10bc1df)) #1 SMP Fri Aug 26 08:44:51 UTC 2022\n"
          ]
        }
      ]
    },
    {
      "cell_type": "code",
      "source": [
        "# версия дистрибутива Linux\n",
        "!lsb_release -a"
      ],
      "metadata": {
        "colab": {
          "base_uri": "https://localhost:8080/"
        },
        "id": "ePuVTgneo0Rs",
        "outputId": "429922f1-5d8e-42bc-a5dc-4a616ea6a21b"
      },
      "execution_count": null,
      "outputs": [
        {
          "output_type": "stream",
          "name": "stdout",
          "text": [
            "No LSB modules are available.\n",
            "Distributor ID:\tUbuntu\n",
            "Description:\tUbuntu 18.04.6 LTS\n",
            "Release:\t18.04\n",
            "Codename:\tbionic\n"
          ]
        }
      ]
    },
    {
      "cell_type": "code",
      "execution_count": null,
      "metadata": {
        "id": "eXAC5VIPiJl7",
        "colab": {
          "base_uri": "https://localhost:8080/"
        },
        "outputId": "a423b1c3-c94c-4f14-fcf5-b65004cf650a"
      },
      "outputs": [
        {
          "output_type": "stream",
          "name": "stdout",
          "text": [
            "Mon Nov 28 13:39:06 2022       \n",
            "+-----------------------------------------------------------------------------+\n",
            "| NVIDIA-SMI 460.32.03    Driver Version: 460.32.03    CUDA Version: 11.2     |\n",
            "|-------------------------------+----------------------+----------------------+\n",
            "| GPU  Name        Persistence-M| Bus-Id        Disp.A | Volatile Uncorr. ECC |\n",
            "| Fan  Temp  Perf  Pwr:Usage/Cap|         Memory-Usage | GPU-Util  Compute M. |\n",
            "|                               |                      |               MIG M. |\n",
            "|===============================+======================+======================|\n",
            "|   0  Tesla T4            Off  | 00000000:00:04.0 Off |                    0 |\n",
            "| N/A   56C    P8    10W /  70W |      0MiB / 15109MiB |      0%      Default |\n",
            "|                               |                      |                  N/A |\n",
            "+-------------------------------+----------------------+----------------------+\n",
            "                                                                               \n",
            "+-----------------------------------------------------------------------------+\n",
            "| Processes:                                                                  |\n",
            "|  GPU   GI   CI        PID   Type   Process name                  GPU Memory |\n",
            "|        ID   ID                                                   Usage      |\n",
            "|=============================================================================|\n",
            "|  No running processes found                                                 |\n",
            "+-----------------------------------------------------------------------------+\n"
          ]
        }
      ],
      "source": [
        "# видеокарта\n",
        "!nvidia-smi"
      ]
    },
    {
      "cell_type": "markdown",
      "source": [
        "CUDA Version в nvidia-smi - это не ваша текущая версия CUDA, а [максимально поддерживаемая версия](https://docs.nvidia.com/cuda/cuda-toolkit-release-notes/index.html) для текущего драйвера видеокарты."
      ],
      "metadata": {
        "id": "CPIo9i8Tx0aX"
      }
    },
    {
      "cell_type": "code",
      "source": [
        "# cuda compiler\n",
        "!nvcc --version"
      ],
      "metadata": {
        "colab": {
          "base_uri": "https://localhost:8080/"
        },
        "id": "TF2LKwK9wsiH",
        "outputId": "cb1e32f1-57a8-4bae-f389-533c6675c7cb"
      },
      "execution_count": null,
      "outputs": [
        {
          "output_type": "stream",
          "name": "stdout",
          "text": [
            "nvcc: NVIDIA (R) Cuda compiler driver\n",
            "Copyright (c) 2005-2021 NVIDIA Corporation\n",
            "Built on Sun_Feb_14_21:12:58_PST_2021\n",
            "Cuda compilation tools, release 11.2, V11.2.152\n",
            "Build cuda_11.2.r11.2/compiler.29618528_0\n"
          ]
        }
      ]
    },
    {
      "cell_type": "code",
      "source": [
        "# процессор\n",
        "!cat /proc/cpuinfo"
      ],
      "metadata": {
        "colab": {
          "base_uri": "https://localhost:8080/"
        },
        "id": "W1vqoHiFnzCk",
        "outputId": "43016a9a-89a2-4259-f2cc-5fe1f79aa1b2"
      },
      "execution_count": null,
      "outputs": [
        {
          "output_type": "stream",
          "name": "stdout",
          "text": [
            "processor\t: 0\n",
            "vendor_id\t: GenuineIntel\n",
            "cpu family\t: 6\n",
            "model\t\t: 79\n",
            "model name\t: Intel(R) Xeon(R) CPU @ 2.20GHz\n",
            "stepping\t: 0\n",
            "microcode\t: 0x1\n",
            "cpu MHz\t\t: 2199.998\n",
            "cache size\t: 56320 KB\n",
            "physical id\t: 0\n",
            "siblings\t: 2\n",
            "core id\t\t: 0\n",
            "cpu cores\t: 1\n",
            "apicid\t\t: 0\n",
            "initial apicid\t: 0\n",
            "fpu\t\t: yes\n",
            "fpu_exception\t: yes\n",
            "cpuid level\t: 13\n",
            "wp\t\t: yes\n",
            "flags\t\t: fpu vme de pse tsc msr pae mce cx8 apic sep mtrr pge mca cmov pat pse36 clflush mmx fxsr sse sse2 ss ht syscall nx pdpe1gb rdtscp lm constant_tsc rep_good nopl xtopology nonstop_tsc cpuid tsc_known_freq pni pclmulqdq ssse3 fma cx16 pcid sse4_1 sse4_2 x2apic movbe popcnt aes xsave avx f16c rdrand hypervisor lahf_lm abm 3dnowprefetch invpcid_single ssbd ibrs ibpb stibp fsgsbase tsc_adjust bmi1 hle avx2 smep bmi2 erms invpcid rtm rdseed adx smap xsaveopt arat md_clear arch_capabilities\n",
            "bugs\t\t: cpu_meltdown spectre_v1 spectre_v2 spec_store_bypass l1tf mds swapgs taa mmio_stale_data retbleed\n",
            "bogomips\t: 4399.99\n",
            "clflush size\t: 64\n",
            "cache_alignment\t: 64\n",
            "address sizes\t: 46 bits physical, 48 bits virtual\n",
            "power management:\n",
            "\n",
            "processor\t: 1\n",
            "vendor_id\t: GenuineIntel\n",
            "cpu family\t: 6\n",
            "model\t\t: 79\n",
            "model name\t: Intel(R) Xeon(R) CPU @ 2.20GHz\n",
            "stepping\t: 0\n",
            "microcode\t: 0x1\n",
            "cpu MHz\t\t: 2199.998\n",
            "cache size\t: 56320 KB\n",
            "physical id\t: 0\n",
            "siblings\t: 2\n",
            "core id\t\t: 0\n",
            "cpu cores\t: 1\n",
            "apicid\t\t: 1\n",
            "initial apicid\t: 1\n",
            "fpu\t\t: yes\n",
            "fpu_exception\t: yes\n",
            "cpuid level\t: 13\n",
            "wp\t\t: yes\n",
            "flags\t\t: fpu vme de pse tsc msr pae mce cx8 apic sep mtrr pge mca cmov pat pse36 clflush mmx fxsr sse sse2 ss ht syscall nx pdpe1gb rdtscp lm constant_tsc rep_good nopl xtopology nonstop_tsc cpuid tsc_known_freq pni pclmulqdq ssse3 fma cx16 pcid sse4_1 sse4_2 x2apic movbe popcnt aes xsave avx f16c rdrand hypervisor lahf_lm abm 3dnowprefetch invpcid_single ssbd ibrs ibpb stibp fsgsbase tsc_adjust bmi1 hle avx2 smep bmi2 erms invpcid rtm rdseed adx smap xsaveopt arat md_clear arch_capabilities\n",
            "bugs\t\t: cpu_meltdown spectre_v1 spectre_v2 spec_store_bypass l1tf mds swapgs taa mmio_stale_data retbleed\n",
            "bogomips\t: 4399.99\n",
            "clflush size\t: 64\n",
            "cache_alignment\t: 64\n",
            "address sizes\t: 46 bits physical, 48 bits virtual\n",
            "power management:\n",
            "\n"
          ]
        }
      ]
    },
    {
      "cell_type": "code",
      "source": [
        "# процессор\n",
        "!lscpu"
      ],
      "metadata": {
        "colab": {
          "base_uri": "https://localhost:8080/"
        },
        "id": "_q3ACTnJoMJU",
        "outputId": "745e0cb6-3d18-47ed-db5b-3d306cf89869"
      },
      "execution_count": null,
      "outputs": [
        {
          "output_type": "stream",
          "name": "stdout",
          "text": [
            "Architecture:        x86_64\n",
            "CPU op-mode(s):      32-bit, 64-bit\n",
            "Byte Order:          Little Endian\n",
            "CPU(s):              2\n",
            "On-line CPU(s) list: 0,1\n",
            "Thread(s) per core:  2\n",
            "Core(s) per socket:  1\n",
            "Socket(s):           1\n",
            "NUMA node(s):        1\n",
            "Vendor ID:           GenuineIntel\n",
            "CPU family:          6\n",
            "Model:               79\n",
            "Model name:          Intel(R) Xeon(R) CPU @ 2.20GHz\n",
            "Stepping:            0\n",
            "CPU MHz:             2199.998\n",
            "BogoMIPS:            4399.99\n",
            "Hypervisor vendor:   KVM\n",
            "Virtualization type: full\n",
            "L1d cache:           32K\n",
            "L1i cache:           32K\n",
            "L2 cache:            256K\n",
            "L3 cache:            56320K\n",
            "NUMA node0 CPU(s):   0,1\n",
            "Flags:               fpu vme de pse tsc msr pae mce cx8 apic sep mtrr pge mca cmov pat pse36 clflush mmx fxsr sse sse2 ss ht syscall nx pdpe1gb rdtscp lm constant_tsc rep_good nopl xtopology nonstop_tsc cpuid tsc_known_freq pni pclmulqdq ssse3 fma cx16 pcid sse4_1 sse4_2 x2apic movbe popcnt aes xsave avx f16c rdrand hypervisor lahf_lm abm 3dnowprefetch invpcid_single ssbd ibrs ibpb stibp fsgsbase tsc_adjust bmi1 hle avx2 smep bmi2 erms invpcid rtm rdseed adx smap xsaveopt arat md_clear arch_capabilities\n"
          ]
        }
      ]
    },
    {
      "cell_type": "code",
      "source": [
        "# оперативная память\n",
        "!grep MemTotal /proc/meminfo"
      ],
      "metadata": {
        "colab": {
          "base_uri": "https://localhost:8080/"
        },
        "id": "e_AQVQQaoVFR",
        "outputId": "8221c77f-7dbb-454d-c982-82e4a076bcd5"
      },
      "execution_count": null,
      "outputs": [
        {
          "output_type": "stream",
          "name": "stdout",
          "text": [
            "MemTotal:       13297228 kB\n"
          ]
        }
      ]
    },
    {
      "cell_type": "code",
      "source": [
        "# диск\n",
        "!df -h"
      ],
      "metadata": {
        "colab": {
          "base_uri": "https://localhost:8080/"
        },
        "id": "58uYqrEBqrqj",
        "outputId": "6cd3a80a-946c-442e-b379-547486da0828"
      },
      "execution_count": null,
      "outputs": [
        {
          "output_type": "stream",
          "name": "stdout",
          "text": [
            "Filesystem      Size  Used Avail Use% Mounted on\n",
            "overlay          79G   23G   56G  29% /\n",
            "tmpfs            64M     0   64M   0% /dev\n",
            "shm             5.7G     0  5.7G   0% /dev/shm\n",
            "/dev/root       2.0G  1.1G  910M  54% /sbin/docker-init\n",
            "tmpfs           6.4G   40K  6.4G   1% /var/colab\n",
            "/dev/sda1        75G   41G   35G  55% /opt/bin/.nvidia\n",
            "tmpfs           6.4G     0  6.4G   0% /proc/acpi\n",
            "tmpfs           6.4G     0  6.4G   0% /proc/scsi\n",
            "tmpfs           6.4G     0  6.4G   0% /sys/firmware\n"
          ]
        }
      ]
    },
    {
      "cell_type": "code",
      "source": [
        "!du -h | sort -h"
      ],
      "metadata": {
        "id": "6AZaA5fOwXXC",
        "outputId": "c26fd610-5186-4813-f245-d746e8f7c125",
        "colab": {
          "base_uri": "https://localhost:8080/"
        }
      },
      "execution_count": null,
      "outputs": [
        {
          "output_type": "stream",
          "name": "stdout",
          "text": [
            "8.0K\t./.config/configurations\n",
            "72K\t./.config/logs/2022.11.22\n",
            "76K\t./.config/logs\n",
            "108K\t./.config\n",
            "55M\t.\n",
            "55M\t./sample_data\n"
          ]
        }
      ]
    },
    {
      "cell_type": "code",
      "source": [
        "# права в Google Colab\n",
        "!whoami"
      ],
      "metadata": {
        "colab": {
          "base_uri": "https://localhost:8080/"
        },
        "id": "gBYRJ67qqMJ2",
        "outputId": "5f62c790-bb95-4fe9-bf22-cd6979986d78"
      },
      "execution_count": null,
      "outputs": [
        {
          "output_type": "stream",
          "name": "stdout",
          "text": [
            "root\n"
          ]
        }
      ]
    },
    {
      "cell_type": "markdown",
      "source": [
        "# Библиотека Pytorch"
      ],
      "metadata": {
        "id": "xJef-8rXrMR2"
      }
    },
    {
      "cell_type": "markdown",
      "source": [
        "## Установка"
      ],
      "metadata": {
        "id": "mV8n8faxvOQO"
      }
    },
    {
      "cell_type": "markdown",
      "source": [
        "Ссылки для установки под ваше оборудование можно найти [тут](https://pytorch.org/get-started/locally/)."
      ],
      "metadata": {
        "id": "ZOyzr4Vp2vgZ"
      }
    },
    {
      "cell_type": "code",
      "source": [
        "import torch"
      ],
      "metadata": {
        "id": "b_dqa87wrRMu"
      },
      "execution_count": null,
      "outputs": []
    },
    {
      "cell_type": "code",
      "source": [
        "torch.cuda.is_available()"
      ],
      "metadata": {
        "colab": {
          "base_uri": "https://localhost:8080/"
        },
        "id": "2vcNoQZ4zVJG",
        "outputId": "1e638927-57d7-4080-c8ad-005614d30ff3"
      },
      "execution_count": null,
      "outputs": [
        {
          "output_type": "execute_result",
          "data": {
            "text/plain": [
              "True"
            ]
          },
          "metadata": {},
          "execution_count": 13
        }
      ]
    },
    {
      "cell_type": "code",
      "source": [
        "!python -m pip list | grep torch"
      ],
      "metadata": {
        "colab": {
          "base_uri": "https://localhost:8080/"
        },
        "id": "Fs_NS9SKzZeH",
        "outputId": "9a414b7f-8342-4c1f-fe1a-eba28be19797"
      },
      "execution_count": null,
      "outputs": [
        {
          "output_type": "stream",
          "name": "stdout",
          "text": [
            "torch                         1.12.1+cu113\n",
            "torchaudio                    0.12.1+cu113\n",
            "torchsummary                  1.5.1\n",
            "torchtext                     0.13.1\n",
            "torchvision                   0.13.1+cu113\n"
          ]
        }
      ]
    },
    {
      "cell_type": "markdown",
      "source": [
        "## Обзор возможностей и особенностей"
      ],
      "metadata": {
        "id": "W4qhspuX3zOE"
      }
    },
    {
      "cell_type": "markdown",
      "source": [
        "## Тензоры"
      ],
      "metadata": {
        "id": "mzgpHI4wuaPq"
      }
    },
    {
      "cell_type": "code",
      "source": [
        "a = torch.Tensor([1,2,3])\n",
        "a"
      ],
      "metadata": {
        "colab": {
          "base_uri": "https://localhost:8080/"
        },
        "id": "gZ4nzBuys7an",
        "outputId": "5618bfe2-0806-46ed-8766-5fdef56ebde2"
      },
      "execution_count": null,
      "outputs": [
        {
          "output_type": "execute_result",
          "data": {
            "text/plain": [
              "tensor([1., 2., 3.])"
            ]
          },
          "metadata": {},
          "execution_count": 15
        }
      ]
    },
    {
      "cell_type": "code",
      "source": [
        "b = torch.tensor([1,2,3])\n",
        "b"
      ],
      "metadata": {
        "colab": {
          "base_uri": "https://localhost:8080/"
        },
        "id": "JLpBNC4Ys-Eu",
        "outputId": "12415f7b-c10f-4cf4-dd46-563f3c70d3cf"
      },
      "execution_count": null,
      "outputs": [
        {
          "output_type": "execute_result",
          "data": {
            "text/plain": [
              "tensor([1, 2, 3])"
            ]
          },
          "metadata": {},
          "execution_count": 16
        }
      ]
    },
    {
      "cell_type": "markdown",
      "source": [
        "Типы данных"
      ],
      "metadata": {
        "id": "tNynZQ_2uc8l"
      }
    },
    {
      "cell_type": "code",
      "source": [
        "a.dtype, b.dtype"
      ],
      "metadata": {
        "colab": {
          "base_uri": "https://localhost:8080/"
        },
        "id": "evWkp5s7tllG",
        "outputId": "e47dd52a-771f-4fd3-853a-178176688b39"
      },
      "execution_count": null,
      "outputs": [
        {
          "output_type": "execute_result",
          "data": {
            "text/plain": [
              "(torch.float32, torch.int64)"
            ]
          },
          "metadata": {},
          "execution_count": 17
        }
      ]
    },
    {
      "cell_type": "markdown",
      "source": [
        "Перевод данных в другой тип"
      ],
      "metadata": {
        "id": "d-ZmOf4Eufk3"
      }
    },
    {
      "cell_type": "code",
      "source": [
        "c = b.float()\n",
        "\n",
        "print(c, c.dtype)\n",
        "\n",
        "print(c.int(), c.int().dtype)\n",
        "print(c.long(), c.long().dtype)\n",
        "print(c.double(), c.double().dtype)"
      ],
      "metadata": {
        "colab": {
          "base_uri": "https://localhost:8080/"
        },
        "id": "KqTujW0xto6G",
        "outputId": "9354ad6b-78fd-4efe-84a9-36d399190f6b"
      },
      "execution_count": null,
      "outputs": [
        {
          "output_type": "stream",
          "name": "stdout",
          "text": [
            "tensor([1., 2., 3.]) torch.float32\n",
            "tensor([1, 2, 3], dtype=torch.int32) torch.int32\n",
            "tensor([1, 2, 3]) torch.int64\n",
            "tensor([1., 2., 3.], dtype=torch.float64) torch.float64\n"
          ]
        }
      ]
    },
    {
      "cell_type": "code",
      "source": [
        "x = torch.rand(2, 3)\n",
        "print(x) \n",
        "print(x.device)\n",
        "print(x.dtype)"
      ],
      "metadata": {
        "colab": {
          "base_uri": "https://localhost:8080/"
        },
        "id": "KCHM15UEtRY0",
        "outputId": "05fd58b6-a057-4477-cc8d-e2b38cafac24"
      },
      "execution_count": null,
      "outputs": [
        {
          "output_type": "stream",
          "name": "stdout",
          "text": [
            "tensor([[0.4929, 0.1061, 0.3542],\n",
            "        [0.0997, 0.9368, 0.0315]])\n",
            "cpu\n",
            "torch.float32\n"
          ]
        }
      ]
    },
    {
      "cell_type": "markdown",
      "source": [
        "## Воспроизводимость результатов"
      ],
      "metadata": {
        "id": "Am-la7kqCDEl"
      }
    },
    {
      "cell_type": "code",
      "source": [
        "# для воспроизводимости результатов\n",
        "# не изменяйте и не удаляйте этот код\n",
        "from numpy.random import seed\n",
        "import random\n",
        "\n",
        "random.seed(0)\n",
        "seed(0)\n",
        "torch.manual_seed(0)"
      ],
      "metadata": {
        "id": "DT_4H6vQuWuk",
        "outputId": "95ae0e89-6759-4a68-fb33-eef46f409e40",
        "colab": {
          "base_uri": "https://localhost:8080/"
        }
      },
      "execution_count": null,
      "outputs": [
        {
          "output_type": "execute_result",
          "data": {
            "text/plain": [
              "<torch._C.Generator at 0x7f2a48046a70>"
            ]
          },
          "metadata": {},
          "execution_count": 20
        }
      ]
    },
    {
      "cell_type": "code",
      "source": [
        "!pip install pytorch-lightning -qqq"
      ],
      "metadata": {
        "id": "FqnA3ZPhkGul",
        "outputId": "9e1313aa-5a59-4014-fe32-24ffbbc8bae2",
        "colab": {
          "base_uri": "https://localhost:8080/"
        }
      },
      "execution_count": null,
      "outputs": [
        {
          "output_type": "stream",
          "name": "stdout",
          "text": [
            "\u001b[K     |████████████████████████████████| 798 kB 26.7 MB/s \n",
            "\u001b[K     |████████████████████████████████| 529 kB 66.3 MB/s \n",
            "\u001b[K     |████████████████████████████████| 125 kB 56.8 MB/s \n",
            "\u001b[K     |████████████████████████████████| 87 kB 7.2 MB/s \n",
            "\u001b[?25h  Building wheel for fire (setup.py) ... \u001b[?25l\u001b[?25hdone\n"
          ]
        }
      ]
    },
    {
      "cell_type": "code",
      "source": [
        "import pytorch_lightning as pl"
      ],
      "metadata": {
        "id": "M2C8FkatkN7D"
      },
      "execution_count": null,
      "outputs": []
    },
    {
      "cell_type": "code",
      "source": [
        "from pytorch_lightning import seed_everything"
      ],
      "metadata": {
        "id": "lLO_HB6ukaKg"
      },
      "execution_count": null,
      "outputs": []
    },
    {
      "cell_type": "markdown",
      "source": [
        "Function that sets seed for pseudo-random number generators in: pytorch, numpy, python.random"
      ],
      "metadata": {
        "id": "_fRUnIZCkvhx"
      }
    },
    {
      "cell_type": "code",
      "source": [
        "seed_everything(0, workers=True)                "
      ],
      "metadata": {
        "colab": {
          "base_uri": "https://localhost:8080/"
        },
        "id": "LGhazHGdkhir",
        "outputId": "9fb45489-ffe1-4f60-8cf5-779604a3c869"
      },
      "execution_count": null,
      "outputs": [
        {
          "output_type": "stream",
          "name": "stderr",
          "text": [
            "INFO:lightning_lite.utilities.seed:Global seed set to 0\n"
          ]
        },
        {
          "output_type": "execute_result",
          "data": {
            "text/plain": [
              "0"
            ]
          },
          "metadata": {},
          "execution_count": 24
        }
      ]
    },
    {
      "cell_type": "markdown",
      "source": [
        "Подробнее можно прочитать [тут](https://pytorch.org/docs/stable/notes/randomness.html)."
      ],
      "metadata": {
        "id": "P8TfCik9DFMf"
      }
    },
    {
      "cell_type": "markdown",
      "source": [
        "## CUDA"
      ],
      "metadata": {
        "id": "eKr7PQlLke2o"
      }
    },
    {
      "cell_type": "code",
      "source": [
        "# проверка доступности видеокарты, выбор устройства CPU или GPU\n",
        "device = torch.device('cuda' if torch.cuda.is_available() else 'cpu')\n",
        "device"
      ],
      "metadata": {
        "colab": {
          "base_uri": "https://localhost:8080/"
        },
        "id": "es3dbo7murKO",
        "outputId": "2321e0b4-55a1-4780-ffa7-394583796d3d"
      },
      "execution_count": null,
      "outputs": [
        {
          "output_type": "execute_result",
          "data": {
            "text/plain": [
              "device(type='cuda')"
            ]
          },
          "metadata": {},
          "execution_count": 25
        }
      ]
    },
    {
      "cell_type": "markdown",
      "source": [
        "Данные нужно вручную переносить в видеопамять -- метод cuda. Перенос в оперативную память -- cpu. Альтернатива -- использование метода `.to(device)`. По умолчанию данные на cpu."
      ],
      "metadata": {
        "id": "3fTPaJAaC25o"
      }
    },
    {
      "cell_type": "code",
      "source": [
        "d = c.to(device)"
      ],
      "metadata": {
        "id": "t05HLcTEur0L"
      },
      "execution_count": null,
      "outputs": []
    },
    {
      "cell_type": "code",
      "source": [
        "import torch"
      ],
      "metadata": {
        "id": "9UXt23O4mx54"
      },
      "execution_count": null,
      "outputs": []
    },
    {
      "cell_type": "code",
      "source": [
        "torch.cuda.get_device_properties(0)"
      ],
      "metadata": {
        "colab": {
          "base_uri": "https://localhost:8080/"
        },
        "id": "Y2VjYSXykhKp",
        "outputId": "04246aa3-184c-4f70-f2bc-0fca08f95efb"
      },
      "execution_count": null,
      "outputs": [
        {
          "output_type": "execute_result",
          "data": {
            "text/plain": [
              "_CudaDeviceProperties(name='Tesla T4', major=7, minor=5, total_memory=15109MB, multi_processor_count=40)"
            ]
          },
          "metadata": {},
          "execution_count": 28
        }
      ]
    },
    {
      "cell_type": "code",
      "source": [
        "!nvidia-smi"
      ],
      "metadata": {
        "colab": {
          "base_uri": "https://localhost:8080/"
        },
        "id": "znSVINf1oN9s",
        "outputId": "74f7387d-4637-45f8-9c2d-016296185876"
      },
      "execution_count": null,
      "outputs": [
        {
          "output_type": "stream",
          "name": "stdout",
          "text": [
            "Mon Nov 28 13:57:19 2022       \n",
            "+-----------------------------------------------------------------------------+\n",
            "| NVIDIA-SMI 460.32.03    Driver Version: 460.32.03    CUDA Version: 11.2     |\n",
            "|-------------------------------+----------------------+----------------------+\n",
            "| GPU  Name        Persistence-M| Bus-Id        Disp.A | Volatile Uncorr. ECC |\n",
            "| Fan  Temp  Perf  Pwr:Usage/Cap|         Memory-Usage | GPU-Util  Compute M. |\n",
            "|                               |                      |               MIG M. |\n",
            "|===============================+======================+======================|\n",
            "|   0  Tesla T4            Off  | 00000000:00:04.0 Off |                    0 |\n",
            "| N/A   47C    P0    27W /  70W |    612MiB / 15109MiB |      0%      Default |\n",
            "|                               |                      |                  N/A |\n",
            "+-------------------------------+----------------------+----------------------+\n",
            "                                                                               \n",
            "+-----------------------------------------------------------------------------+\n",
            "| Processes:                                                                  |\n",
            "|  GPU   GI   CI        PID   Type   Process name                  GPU Memory |\n",
            "|        ID   ID                                                   Usage      |\n",
            "|=============================================================================|\n",
            "+-----------------------------------------------------------------------------+\n"
          ]
        }
      ]
    },
    {
      "cell_type": "code",
      "source": [
        "def allocate_empty_tensor(dim_size):\n",
        "  a=torch.zeros(4096,dim_size,dtype=torch.float32,device='cuda')"
      ],
      "metadata": {
        "id": "BWsfUTi0oQnG"
      },
      "execution_count": null,
      "outputs": []
    },
    {
      "cell_type": "code",
      "source": [
        "allocate_empty_tensor(2048)"
      ],
      "metadata": {
        "id": "pvUBeD9-phd2"
      },
      "execution_count": null,
      "outputs": []
    },
    {
      "cell_type": "code",
      "source": [
        "torch.cuda.memory_allocated()"
      ],
      "metadata": {
        "colab": {
          "base_uri": "https://localhost:8080/"
        },
        "id": "qpJLSkedpdVK",
        "outputId": "5cbce23c-29c9-4a2a-cfc2-4ead88bfbad1"
      },
      "execution_count": null,
      "outputs": [
        {
          "output_type": "execute_result",
          "data": {
            "text/plain": [
              "512"
            ]
          },
          "metadata": {},
          "execution_count": 44
        }
      ]
    },
    {
      "cell_type": "code",
      "source": [
        "torch.cuda.memory_reserved()"
      ],
      "metadata": {
        "colab": {
          "base_uri": "https://localhost:8080/"
        },
        "id": "PNbeLhzbp8Ch",
        "outputId": "949e195f-55b9-411d-f403-fc9b3609a253"
      },
      "execution_count": null,
      "outputs": [
        {
          "output_type": "execute_result",
          "data": {
            "text/plain": [
              "1908408320"
            ]
          },
          "metadata": {},
          "execution_count": 45
        }
      ]
    },
    {
      "cell_type": "code",
      "source": [
        "!nvidia-smi"
      ],
      "metadata": {
        "colab": {
          "base_uri": "https://localhost:8080/"
        },
        "id": "mN8IHOIcplaL",
        "outputId": "89100e6a-5f80-44ab-98dd-5433d9caf743"
      },
      "execution_count": null,
      "outputs": [
        {
          "output_type": "stream",
          "name": "stdout",
          "text": [
            "Mon Nov 28 13:59:56 2022       \n",
            "+-----------------------------------------------------------------------------+\n",
            "| NVIDIA-SMI 460.32.03    Driver Version: 460.32.03    CUDA Version: 11.2     |\n",
            "|-------------------------------+----------------------+----------------------+\n",
            "| GPU  Name        Persistence-M| Bus-Id        Disp.A | Volatile Uncorr. ECC |\n",
            "| Fan  Temp  Perf  Pwr:Usage/Cap|         Memory-Usage | GPU-Util  Compute M. |\n",
            "|                               |                      |               MIG M. |\n",
            "|===============================+======================+======================|\n",
            "|   0  Tesla T4            Off  | 00000000:00:04.0 Off |                    0 |\n",
            "| N/A   60C    P0    29W /  70W |   2430MiB / 15109MiB |      0%      Default |\n",
            "|                               |                      |                  N/A |\n",
            "+-------------------------------+----------------------+----------------------+\n",
            "                                                                               \n",
            "+-----------------------------------------------------------------------------+\n",
            "| Processes:                                                                  |\n",
            "|  GPU   GI   CI        PID   Type   Process name                  GPU Memory |\n",
            "|        ID   ID                                                   Usage      |\n",
            "|=============================================================================|\n",
            "+-----------------------------------------------------------------------------+\n"
          ]
        }
      ]
    },
    {
      "cell_type": "code",
      "source": [
        "allocate_empty_tensor(2048 * 100)"
      ],
      "metadata": {
        "id": "3yNsBe_Apxlv"
      },
      "execution_count": null,
      "outputs": []
    },
    {
      "cell_type": "code",
      "source": [
        "torch.cuda.memory_reserved()"
      ],
      "metadata": {
        "colab": {
          "base_uri": "https://localhost:8080/"
        },
        "id": "Gbj8FG_GqFUG",
        "outputId": "7de10c3c-52e1-4647-abc3-c13af1cf1576"
      },
      "execution_count": null,
      "outputs": [
        {
          "output_type": "execute_result",
          "data": {
            "text/plain": [
              "5263851520"
            ]
          },
          "metadata": {},
          "execution_count": 57
        }
      ]
    },
    {
      "cell_type": "code",
      "source": [
        "!nvidia-smi"
      ],
      "metadata": {
        "colab": {
          "base_uri": "https://localhost:8080/"
        },
        "id": "99PZakMWp3ZR",
        "outputId": "0271d377-f6e4-499f-fc89-f17c49cad108"
      },
      "execution_count": null,
      "outputs": [
        {
          "output_type": "stream",
          "name": "stdout",
          "text": [
            "Mon Nov 28 14:01:41 2022       \n",
            "+-----------------------------------------------------------------------------+\n",
            "| NVIDIA-SMI 460.32.03    Driver Version: 460.32.03    CUDA Version: 11.2     |\n",
            "|-------------------------------+----------------------+----------------------+\n",
            "| GPU  Name        Persistence-M| Bus-Id        Disp.A | Volatile Uncorr. ECC |\n",
            "| Fan  Temp  Perf  Pwr:Usage/Cap|         Memory-Usage | GPU-Util  Compute M. |\n",
            "|                               |                      |               MIG M. |\n",
            "|===============================+======================+======================|\n",
            "|   0  Tesla T4            Off  | 00000000:00:04.0 Off |                    0 |\n",
            "| N/A   65C    P0    30W /  70W |   5630MiB / 15109MiB |      0%      Default |\n",
            "|                               |                      |                  N/A |\n",
            "+-------------------------------+----------------------+----------------------+\n",
            "                                                                               \n",
            "+-----------------------------------------------------------------------------+\n",
            "| Processes:                                                                  |\n",
            "|  GPU   GI   CI        PID   Type   Process name                  GPU Memory |\n",
            "|        ID   ID                                                   Usage      |\n",
            "|=============================================================================|\n",
            "+-----------------------------------------------------------------------------+\n"
          ]
        }
      ]
    },
    {
      "cell_type": "code",
      "source": [
        "torch.cuda.empty_cache()\n",
        "torch.cuda.memory_reserved()"
      ],
      "metadata": {
        "colab": {
          "base_uri": "https://localhost:8080/"
        },
        "id": "hIAzc2PFqLRj",
        "outputId": "b775e670-e2f9-4902-d543-8f99e68ce778"
      },
      "execution_count": null,
      "outputs": [
        {
          "output_type": "execute_result",
          "data": {
            "text/plain": [
              "2097152"
            ]
          },
          "metadata": {},
          "execution_count": 63
        }
      ]
    },
    {
      "cell_type": "code",
      "source": [
        "!nvidia-smi"
      ],
      "metadata": {
        "colab": {
          "base_uri": "https://localhost:8080/"
        },
        "id": "LlhvCLl0qNil",
        "outputId": "db82ab00-5a3f-4b7f-eea1-9aad9a0821fc"
      },
      "execution_count": null,
      "outputs": [
        {
          "output_type": "stream",
          "name": "stdout",
          "text": [
            "Mon Nov 28 14:02:26 2022       \n",
            "+-----------------------------------------------------------------------------+\n",
            "| NVIDIA-SMI 460.32.03    Driver Version: 460.32.03    CUDA Version: 11.2     |\n",
            "|-------------------------------+----------------------+----------------------+\n",
            "| GPU  Name        Persistence-M| Bus-Id        Disp.A | Volatile Uncorr. ECC |\n",
            "| Fan  Temp  Perf  Pwr:Usage/Cap|         Memory-Usage | GPU-Util  Compute M. |\n",
            "|                               |                      |               MIG M. |\n",
            "|===============================+======================+======================|\n",
            "|   0  Tesla T4            Off  | 00000000:00:04.0 Off |                    0 |\n",
            "| N/A   68C    P0    39W /  70W |    612MiB / 15109MiB |      0%      Default |\n",
            "|                               |                      |                  N/A |\n",
            "+-------------------------------+----------------------+----------------------+\n",
            "                                                                               \n",
            "+-----------------------------------------------------------------------------+\n",
            "| Processes:                                                                  |\n",
            "|  GPU   GI   CI        PID   Type   Process name                  GPU Memory |\n",
            "|        ID   ID                                                   Usage      |\n",
            "|=============================================================================|\n",
            "+-----------------------------------------------------------------------------+\n"
          ]
        }
      ]
    },
    {
      "cell_type": "code",
      "source": [
        "allocate_empty_tensor(600000)\n",
        "torch.cuda.memory_reserved()"
      ],
      "metadata": {
        "colab": {
          "base_uri": "https://localhost:8080/"
        },
        "id": "AmgQgvNKrBt5",
        "outputId": "438e9e40-4e6b-4fee-dcd1-57e2a65a1ba5"
      },
      "execution_count": null,
      "outputs": [
        {
          "output_type": "execute_result",
          "data": {
            "text/plain": [
              "9833545728"
            ]
          },
          "metadata": {},
          "execution_count": 61
        }
      ]
    },
    {
      "cell_type": "markdown",
      "source": [
        "## Точность"
      ],
      "metadata": {
        "id": "mleBdxygtTPs"
      }
    },
    {
      "cell_type": "code",
      "source": [
        "torch.manual_seed(1337)\n",
        "x = torch.randn(5000, 5000)\n",
        "\n",
        "def matrix_power(x):\n",
        "  y = x @ x @ x @ x @ x @ x\n",
        "  return (y).sum().item()\n",
        "\n",
        "print(matrix_power(x))\n",
        "print(matrix_power(x.cuda()))"
      ],
      "metadata": {
        "colab": {
          "base_uri": "https://localhost:8080/"
        },
        "id": "DjHSkmVCtVy9",
        "outputId": "19647ee7-3581-438b-c637-5c38c7c35d04"
      },
      "execution_count": null,
      "outputs": [
        {
          "output_type": "stream",
          "name": "stdout",
          "text": [
            "27654770130944.0\n",
            "27654807879680.0\n"
          ]
        }
      ]
    },
    {
      "cell_type": "code",
      "source": [
        "import numpy as np"
      ],
      "metadata": {
        "id": "L5oiw4Exjqz2"
      },
      "execution_count": null,
      "outputs": []
    },
    {
      "cell_type": "code",
      "source": [
        "print(matrix_power(x.numpy()))\n",
        "np.linalg.matrix_power(x.numpy(),6).sum()"
      ],
      "metadata": {
        "id": "Beplf35tnJ5x",
        "outputId": "3330ea26-97db-4c6b-88cc-923547d4699e",
        "colab": {
          "base_uri": "https://localhost:8080/"
        }
      },
      "execution_count": null,
      "outputs": [
        {
          "output_type": "stream",
          "name": "stdout",
          "text": [
            "27654791102464.0\n"
          ]
        },
        {
          "output_type": "execute_result",
          "data": {
            "text/plain": [
              "27654774000000.0"
            ]
          },
          "metadata": {},
          "execution_count": 68
        }
      ]
    },
    {
      "cell_type": "markdown",
      "source": [
        "Takeaway: numerical precision of floating point computations can vary between libraries, environments and devices, and from the user side, it is often hard to resolve this issue altogether. Usually, this happens due to a different summation order in code or due to inherent nondeterminism of hardware.\n",
        "\n",
        "However, note that the relative error is small enough, which makes such blatant discrepancies less of a problem in regular deep learning code.\n"
      ],
      "metadata": {
        "id": "Dc1_1MmXnNTP"
      }
    },
    {
      "cell_type": "markdown",
      "source": [
        "## Нейроны и линейные слои"
      ],
      "metadata": {
        "id": "64d_Ywznwgbn"
      }
    },
    {
      "cell_type": "markdown",
      "source": [
        "![alt text](https://drive.google.com/uc?export=view&id=1k96ch-5lAGYrfBk4xgoty93xy-GP2bhr)\n"
      ],
      "metadata": {
        "id": "-OBSxEORsEMG"
      }
    },
    {
      "cell_type": "markdown",
      "source": [
        "![alt text](https://drive.google.com/uc?export=view&id=1ORawq1pZJ7a2z7vUD2PPyLELkOHoAB51)"
      ],
      "metadata": {
        "id": "4kiuzSRBQAte"
      }
    },
    {
      "cell_type": "markdown",
      "source": [
        "![изображение.png](data:image/png;base64,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)"
      ],
      "metadata": {
        "id": "TEFP_hPO5MO5"
      }
    },
    {
      "cell_type": "markdown",
      "source": [
        "![изображение.png](data:image/png;base64,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)"
      ],
      "metadata": {
        "id": "_gZo-8fW3PLu"
      }
    },
    {
      "cell_type": "code",
      "source": [
        "batch_size = 2 # Количество покупателей\n",
        "w = 4          # Количество существующих товаров\n",
        "m = 3          # Количество существующих магазинов\n",
        "\n",
        "# Матрица покупателей\n",
        "X = torch.rand(batch_size, w)\n",
        "\n",
        "# Матрица цен в магазине\n",
        "W = torch.rand(m,w)\n",
        "\n",
        "# Цена за топливо\n",
        "b = torch.rand(m)\n",
        "\n",
        "print(X.shape, W.shape, b.shape)\n",
        "\n",
        "print(X)\n",
        "\n",
        "answer = X @ W.T + b\n",
        "answer.shape"
      ],
      "metadata": {
        "colab": {
          "base_uri": "https://localhost:8080/"
        },
        "id": "nSl2PWA9JUpE",
        "outputId": "2c6c67a2-2fe2-4f51-a8de-7507ea8353b7"
      },
      "execution_count": null,
      "outputs": [
        {
          "output_type": "stream",
          "name": "stdout",
          "text": [
            "torch.Size([2, 4]) torch.Size([3, 4]) torch.Size([3])\n",
            "tensor([[0.5997, 0.7686, 0.8438, 0.6866],\n",
            "        [0.9745, 0.5593, 0.4227, 0.4468]])\n"
          ]
        },
        {
          "output_type": "execute_result",
          "data": {
            "text/plain": [
              "torch.Size([2, 3])"
            ]
          },
          "metadata": {},
          "execution_count": 69
        }
      ]
    },
    {
      "cell_type": "code",
      "source": [
        "linear = torch.nn.Linear(4, 3)\n",
        "out = linear(X)\n",
        "out.shape"
      ],
      "metadata": {
        "colab": {
          "base_uri": "https://localhost:8080/"
        },
        "id": "fI3aho-92ik5",
        "outputId": "5ef17f72-2565-4374-e592-0d06e30a0ec8"
      },
      "execution_count": null,
      "outputs": [
        {
          "output_type": "execute_result",
          "data": {
            "text/plain": [
              "torch.Size([2, 3])"
            ]
          },
          "metadata": {},
          "execution_count": 70
        }
      ]
    },
    {
      "cell_type": "code",
      "source": [
        "linear.weight.data.shape"
      ],
      "metadata": {
        "colab": {
          "base_uri": "https://localhost:8080/"
        },
        "id": "c4xuSW9EuxAx",
        "outputId": "a0e38da4-216e-447d-c501-4e044bad33fe"
      },
      "execution_count": null,
      "outputs": [
        {
          "output_type": "execute_result",
          "data": {
            "text/plain": [
              "torch.Size([3, 4])"
            ]
          },
          "metadata": {},
          "execution_count": 71
        }
      ]
    },
    {
      "cell_type": "code",
      "source": [
        "linear.bias"
      ],
      "metadata": {
        "id": "nqfpWVtZnQG5",
        "outputId": "a3e2d1ea-60ad-442e-f708-b1ef7baf6992",
        "colab": {
          "base_uri": "https://localhost:8080/"
        }
      },
      "execution_count": null,
      "outputs": [
        {
          "output_type": "execute_result",
          "data": {
            "text/plain": [
              "Parameter containing:\n",
              "tensor([ 0.4250,  0.1366, -0.1779], requires_grad=True)"
            ]
          },
          "metadata": {},
          "execution_count": 76
        }
      ]
    },
    {
      "cell_type": "markdown",
      "source": [
        "### Встроенные слои"
      ],
      "metadata": {
        "id": "YS4WszpAvJl4"
      }
    },
    {
      "cell_type": "code",
      "source": [
        "from torch import nn # модуль с базовыми слоями\n",
        "import torch.nn.functional as F # модуль с базовыми функциями"
      ],
      "metadata": {
        "id": "N5BaifEM4rVz"
      },
      "execution_count": null,
      "outputs": []
    },
    {
      "cell_type": "code",
      "source": [
        "dir(nn)[:10]"
      ],
      "metadata": {
        "colab": {
          "base_uri": "https://localhost:8080/"
        },
        "id": "UCzQK0As5BQM",
        "outputId": "dba41341-639f-4def-850b-a4e4c7bf4439"
      },
      "execution_count": null,
      "outputs": [
        {
          "output_type": "execute_result",
          "data": {
            "text/plain": [
              "['AdaptiveAvgPool1d',\n",
              " 'AdaptiveAvgPool2d',\n",
              " 'AdaptiveAvgPool3d',\n",
              " 'AdaptiveLogSoftmaxWithLoss',\n",
              " 'AdaptiveMaxPool1d',\n",
              " 'AdaptiveMaxPool2d',\n",
              " 'AdaptiveMaxPool3d',\n",
              " 'AlphaDropout',\n",
              " 'AvgPool1d',\n",
              " 'AvgPool2d']"
            ]
          },
          "metadata": {},
          "execution_count": 78
        }
      ]
    },
    {
      "cell_type": "markdown",
      "metadata": {
        "id": "34ox66u1jNBG"
      },
      "source": [
        "Два способа создания нейросети:\n",
        "  1. на основе готового класса `nn.Sequential` объединяющего отдельные слои\n",
        "    - данные передаются по сети в том порядке, в каком объявлены слои\n",
        "    - функции активации задаются как отдельные слои\n",
        "  2. свой класс для нейросети, на основе `nn.Module`\n",
        "    - порядок передачи данных можно менять во время обучения, переопределив forward - динамический граф вычислений\n",
        "\n",
        "Первый способ стоит использовать только как контейнер для ряда слоев. Неросеть нужно наследовать от `nn.Module`.\n"
      ]
    },
    {
      "cell_type": "code",
      "source": [
        "net_seq = nn.Sequential(\n",
        "    nn.Linear(in_features=3, out_features=5),\n",
        "    nn.Sigmoid(),\n",
        "    nn.Linear(in_features=5, out_features=2),                                                            \n",
        ")\n",
        "net_seq.to(device)\n",
        "net_seq"
      ],
      "metadata": {
        "id": "H17RdEIv7aOT",
        "colab": {
          "base_uri": "https://localhost:8080/"
        },
        "outputId": "b9385e12-b374-4d1e-c15a-ea5f048b875f"
      },
      "execution_count": null,
      "outputs": [
        {
          "output_type": "execute_result",
          "data": {
            "text/plain": [
              "Sequential(\n",
              "  (0): Linear(in_features=3, out_features=5, bias=True)\n",
              "  (1): Sigmoid()\n",
              "  (2): Linear(in_features=5, out_features=2, bias=True)\n",
              ")"
            ]
          },
          "metadata": {},
          "execution_count": 94
        }
      ]
    },
    {
      "cell_type": "code",
      "source": [
        "net_seq(X.to(device))"
      ],
      "metadata": {
        "id": "v2xerVJ983e_",
        "colab": {
          "base_uri": "https://localhost:8080/"
        },
        "outputId": "f6d358ff-844b-4f61-bf34-21d1330dc685"
      },
      "execution_count": null,
      "outputs": [
        {
          "output_type": "execute_result",
          "data": {
            "text/plain": [
              "tensor([[-0.5553, -0.6644],\n",
              "        [-0.5321, -0.6666]], device='cuda:0', grad_fn=<AddmmBackward0>)"
            ]
          },
          "metadata": {},
          "execution_count": 91
        }
      ]
    },
    {
      "cell_type": "code",
      "source": [
        "class Model(nn.Module):\n",
        "    def __init__(self):\n",
        "        super().__init__()\n",
        "        self.fc1 = nn.Linear(in_features=3, out_features=5)\n",
        "        self.fc2 = nn.Linear(in_features=5, out_features=2)\n",
        "\n",
        "    def forward(self, x):\n",
        "        x = self.fc1(x)\n",
        "        return F.sigmoid(self.fc2(x))"
      ],
      "metadata": {
        "id": "Xt4BPLs3-7DT"
      },
      "execution_count": null,
      "outputs": []
    },
    {
      "cell_type": "code",
      "source": [
        "net_model = Model()\n",
        "net_model.to(device)\n",
        "net_model"
      ],
      "metadata": {
        "id": "n7csNM12_UYG",
        "colab": {
          "base_uri": "https://localhost:8080/"
        },
        "outputId": "54ade1ee-70bb-47dc-b2e2-a2e24d745cc5"
      },
      "execution_count": null,
      "outputs": [
        {
          "output_type": "execute_result",
          "data": {
            "text/plain": [
              "Model(\n",
              "  (fc1): Linear(in_features=3, out_features=5, bias=True)\n",
              "  (fc2): Linear(in_features=5, out_features=2, bias=True)\n",
              ")"
            ]
          },
          "metadata": {},
          "execution_count": 93
        }
      ]
    },
    {
      "cell_type": "markdown",
      "source": [
        "### **Задача 1**. Посчитайте количество обучаемых параметров в сети net_seq и net_model."
      ],
      "metadata": {
        "id": "7bIrvcYJ_5jK"
      }
    },
    {
      "cell_type": "code",
      "source": [
        "params_cnt = 0\n",
        "\n",
        "for param in net_seq.parameters():\n",
        "    if len(param.shape) == 1:\n",
        "        params_cnt += param.shape[0]\n",
        "    elif len(param.shape) == 2:\n",
        "        params_cnt += param.shape[0] * param.shape[1]\n",
        "    print(param)"
      ],
      "metadata": {
        "id": "s-AKvypwn3Oh",
        "outputId": "e966489d-7736-4a21-dfe8-e8f7437e7e72",
        "colab": {
          "base_uri": "https://localhost:8080/"
        }
      },
      "execution_count": null,
      "outputs": [
        {
          "output_type": "stream",
          "name": "stdout",
          "text": [
            "Parameter containing:\n",
            "tensor([[-0.5071, -0.3560, -0.1474],\n",
            "        [-0.0501,  0.5563, -0.1077],\n",
            "        [ 0.3447, -0.0061, -0.1764],\n",
            "        [-0.1405,  0.3691, -0.3770],\n",
            "        [ 0.1229,  0.5718,  0.4980]], device='cuda:0', requires_grad=True)\n",
            "Parameter containing:\n",
            "tensor([-0.3664, -0.5229, -0.1720,  0.4015, -0.0375], device='cuda:0',\n",
            "       requires_grad=True)\n",
            "Parameter containing:\n",
            "tensor([[ 0.2951, -0.2478,  0.0943,  0.1665,  0.0701],\n",
            "        [-0.1955,  0.1117,  0.3253,  0.4190,  0.3716]], device='cuda:0',\n",
            "       requires_grad=True)\n",
            "Parameter containing:\n",
            "tensor([0.0961, 0.3931], device='cuda:0', requires_grad=True)\n"
          ]
        }
      ]
    },
    {
      "cell_type": "code",
      "source": [
        "params_cnt"
      ],
      "metadata": {
        "id": "ZNc7Oe2goUlr",
        "outputId": "fe3b4db2-7d64-44dc-c5f9-53f6ac898a02",
        "colab": {
          "base_uri": "https://localhost:8080/"
        }
      },
      "execution_count": null,
      "outputs": [
        {
          "output_type": "execute_result",
          "data": {
            "text/plain": [
              "32"
            ]
          },
          "metadata": {},
          "execution_count": 98
        }
      ]
    },
    {
      "cell_type": "code",
      "source": [
        "params_cnt = 0\n",
        "\n",
        "for param in net_model.parameters():\n",
        "    if len(param.shape) == 1:\n",
        "        params_cnt += param.shape[0]\n",
        "    elif len(param.shape) == 2:\n",
        "        params_cnt += param.shape[0] * param.shape[1]"
      ],
      "metadata": {
        "id": "ZRkvdSwXoXU8"
      },
      "execution_count": null,
      "outputs": []
    },
    {
      "cell_type": "code",
      "source": [
        "params_cnt"
      ],
      "metadata": {
        "id": "Pae3UvycoZdj",
        "outputId": "daf59c4b-5cbd-4110-e69e-4d5c42672461",
        "colab": {
          "base_uri": "https://localhost:8080/"
        }
      },
      "execution_count": null,
      "outputs": [
        {
          "output_type": "execute_result",
          "data": {
            "text/plain": [
              "32"
            ]
          },
          "metadata": {},
          "execution_count": 100
        }
      ]
    },
    {
      "cell_type": "markdown",
      "source": [
        "# Введение в глубокое обучение"
      ],
      "metadata": {
        "id": "-B0jOvkQE4MQ"
      }
    },
    {
      "cell_type": "code",
      "source": [
        "import numpy as np\n",
        "import torch"
      ],
      "metadata": {
        "id": "K3qDkWpcRTWZ"
      },
      "execution_count": null,
      "outputs": []
    },
    {
      "cell_type": "markdown",
      "source": [
        "![alt text](https://drive.google.com/uc?export=view&id=19I2SrQHTO4njMHwCYh8fcaX-qOcKKy2A)"
      ],
      "metadata": {
        "id": "sVIkrL0-ZjpO"
      }
    },
    {
      "cell_type": "markdown",
      "source": [
        "## **Задача 2**. Cделать нейрон, соответствующий оператору НЕ."
      ],
      "metadata": {
        "id": "9P9bWaC9QQJm"
      }
    },
    {
      "cell_type": "code",
      "source": [
        "class Neuron(torch.nn.Module):\n",
        "  def __init__(self):\n",
        "    super().__init__()\n",
        "    self.fc = nn.Linear(1, 1)\n",
        "\n",
        "  def forward(self, x):\n",
        "    return torch.heaviside(self.fc(x), torch.tensor([0.0]))"
      ],
      "metadata": {
        "id": "Hh8sSJkEWNmT"
      },
      "execution_count": null,
      "outputs": []
    },
    {
      "cell_type": "code",
      "source": [
        "neuron = Neuron()\n",
        "neuron.fc.weight, neuron.fc.bias"
      ],
      "metadata": {
        "id": "r9HoH1koVQXi",
        "outputId": "afb6c5ad-7322-430f-a0ea-deac915ee90c",
        "colab": {
          "base_uri": "https://localhost:8080/"
        }
      },
      "execution_count": null,
      "outputs": [
        {
          "output_type": "execute_result",
          "data": {
            "text/plain": [
              "(Parameter containing:\n",
              " tensor([[0.9640]], requires_grad=True), Parameter containing:\n",
              " tensor([-0.7349], requires_grad=True))"
            ]
          },
          "metadata": {},
          "execution_count": 130
        }
      ]
    },
    {
      "cell_type": "code",
      "source": [
        "neuron.fc.weight.data = torch.tensor([[-1.0]])\n",
        "neuron.fc.bias.data = torch.tensor([0.5])"
      ],
      "metadata": {
        "id": "MLmGhtWFTYlV"
      },
      "execution_count": null,
      "outputs": []
    },
    {
      "cell_type": "code",
      "source": [
        "x = torch.Tensor([0.0])\n",
        "neuron(x)"
      ],
      "metadata": {
        "id": "UFr5InkDTf-r",
        "outputId": "d00d387e-c0c1-43ba-ab25-34016e380c92",
        "colab": {
          "base_uri": "https://localhost:8080/"
        }
      },
      "execution_count": null,
      "outputs": [
        {
          "output_type": "execute_result",
          "data": {
            "text/plain": [
              "tensor([1.], grad_fn=<NotImplemented>)"
            ]
          },
          "metadata": {},
          "execution_count": 132
        }
      ]
    },
    {
      "cell_type": "code",
      "source": [
        "x = torch.Tensor([1.0])\n",
        "neuron(x)"
      ],
      "metadata": {
        "id": "7UmwJ7w2qd3G",
        "outputId": "2ec5b688-46ef-453e-a2bd-dc4c439a7185",
        "colab": {
          "base_uri": "https://localhost:8080/"
        }
      },
      "execution_count": null,
      "outputs": [
        {
          "output_type": "execute_result",
          "data": {
            "text/plain": [
              "tensor([0.], grad_fn=<NotImplemented>)"
            ]
          },
          "metadata": {},
          "execution_count": 133
        }
      ]
    },
    {
      "cell_type": "markdown",
      "source": [
        "## **Задача 3**. Cделать нейрон, соответствующий оператору И."
      ],
      "metadata": {
        "id": "TRxJxcRJQsMz"
      }
    },
    {
      "cell_type": "code",
      "source": [
        "class Neuron(torch.nn.Module):\n",
        "  def __init__(self):\n",
        "    super().__init__()\n",
        "    self.fc = torch.nn.Linear(2, 1)\n",
        "\n",
        "  def forward(self, x):\n",
        "    return torch.heaviside(self.fc(x), torch.tensor([0.0]))"
      ],
      "metadata": {
        "id": "7dvDtA7HX3V6"
      },
      "execution_count": null,
      "outputs": []
    },
    {
      "cell_type": "code",
      "source": [
        "neuron = Neuron()\n",
        "neuron.fc.weight, neuron.fc.bias"
      ],
      "metadata": {
        "id": "olMqAnQtX5NQ",
        "colab": {
          "base_uri": "https://localhost:8080/"
        },
        "outputId": "1f760e4b-bf49-40aa-e62e-841b14f350db"
      },
      "execution_count": null,
      "outputs": [
        {
          "output_type": "execute_result",
          "data": {
            "text/plain": [
              "(Parameter containing:\n",
              " tensor([[0.5219, 0.6366]], requires_grad=True), Parameter containing:\n",
              " tensor([0.0608], requires_grad=True))"
            ]
          },
          "metadata": {},
          "execution_count": 135
        }
      ]
    },
    {
      "cell_type": "code",
      "source": [
        "neuron.fc.weight.data = torch.tensor([[0.5, 0.5]])\n",
        "neuron.fc.bias.data = torch.tensor([-0.5])"
      ],
      "metadata": {
        "id": "kAtwMX7HQ0aj"
      },
      "execution_count": null,
      "outputs": []
    },
    {
      "cell_type": "code",
      "source": [
        "x = torch.tensor([0.0, 0.0])\n",
        "neuron(x)"
      ],
      "metadata": {
        "id": "P27EdNkrXloh",
        "outputId": "71e21af3-d4d6-4cbf-98a5-d9ba3146131a",
        "colab": {
          "base_uri": "https://localhost:8080/"
        }
      },
      "execution_count": null,
      "outputs": [
        {
          "output_type": "execute_result",
          "data": {
            "text/plain": [
              "tensor([0.], grad_fn=<NotImplemented>)"
            ]
          },
          "metadata": {},
          "execution_count": 142
        }
      ]
    },
    {
      "cell_type": "code",
      "source": [
        "x = torch.tensor([1.0, 0.0])\n",
        "neuron(x)"
      ],
      "metadata": {
        "colab": {
          "base_uri": "https://localhost:8080/"
        },
        "id": "Cyjo69K8q35o",
        "outputId": "550ec35c-d421-4f56-da68-bbeee4102b58"
      },
      "execution_count": null,
      "outputs": [
        {
          "output_type": "execute_result",
          "data": {
            "text/plain": [
              "tensor([0.], grad_fn=<NotImplemented>)"
            ]
          },
          "metadata": {},
          "execution_count": 143
        }
      ]
    },
    {
      "cell_type": "code",
      "source": [
        "x = torch.tensor([0.0, 1.0])\n",
        "neuron(x)"
      ],
      "metadata": {
        "colab": {
          "base_uri": "https://localhost:8080/"
        },
        "id": "5EZo7QzEq5Dj",
        "outputId": "b84e436f-d47f-479d-b554-968f7e97e449"
      },
      "execution_count": null,
      "outputs": [
        {
          "output_type": "execute_result",
          "data": {
            "text/plain": [
              "tensor([0.], grad_fn=<NotImplemented>)"
            ]
          },
          "metadata": {},
          "execution_count": 144
        }
      ]
    },
    {
      "cell_type": "code",
      "source": [
        "x = torch.tensor([1.0, 1.0])\n",
        "neuron(x)"
      ],
      "metadata": {
        "colab": {
          "base_uri": "https://localhost:8080/"
        },
        "id": "Nbig6pljq5Np",
        "outputId": "8a20cb44-3a99-444b-f453-db0b24dccc62"
      },
      "execution_count": null,
      "outputs": [
        {
          "output_type": "execute_result",
          "data": {
            "text/plain": [
              "tensor([1.], grad_fn=<NotImplemented>)"
            ]
          },
          "metadata": {},
          "execution_count": 145
        }
      ]
    },
    {
      "cell_type": "markdown",
      "source": [
        "## **Задача 4**. Cделать нейрон, соответствующий оператору ИЛИ."
      ],
      "metadata": {
        "id": "MRuSrP7JQ00i"
      }
    },
    {
      "cell_type": "code",
      "source": [
        "neuron.fc.weight.data = torch.tensor([[1.0, 1.0]])\n",
        "neuron.fc.bias.data = torch.tensor([0.0])"
      ],
      "metadata": {
        "id": "23RuhFqbQ24-"
      },
      "execution_count": null,
      "outputs": []
    },
    {
      "cell_type": "code",
      "source": [
        "x = torch.tensor([0.0, 0.0])\n",
        "neuron(x)"
      ],
      "metadata": {
        "id": "i-BZHFqnXpLL",
        "outputId": "af93a48e-6e56-46cb-f1ca-67cd56d2f12b",
        "colab": {
          "base_uri": "https://localhost:8080/"
        }
      },
      "execution_count": null,
      "outputs": [
        {
          "output_type": "execute_result",
          "data": {
            "text/plain": [
              "tensor([0.], grad_fn=<NotImplemented>)"
            ]
          },
          "metadata": {},
          "execution_count": 147
        }
      ]
    },
    {
      "cell_type": "code",
      "source": [
        "x = torch.tensor([1.0, 0.0])\n",
        "neuron(x)"
      ],
      "metadata": {
        "outputId": "7a78fac5-4960-4c8c-94a2-627fce3e47c0",
        "colab": {
          "base_uri": "https://localhost:8080/"
        },
        "id": "ny0QDTg0rG3U"
      },
      "execution_count": null,
      "outputs": [
        {
          "output_type": "execute_result",
          "data": {
            "text/plain": [
              "tensor([1.], grad_fn=<NotImplemented>)"
            ]
          },
          "metadata": {},
          "execution_count": 148
        }
      ]
    },
    {
      "cell_type": "code",
      "source": [
        "x = torch.tensor([0.0, 1.0])\n",
        "neuron(x)"
      ],
      "metadata": {
        "outputId": "dc9cab11-e7aa-4ccb-abe5-8d46b5f70633",
        "colab": {
          "base_uri": "https://localhost:8080/"
        },
        "id": "GLbLaS_BrG3U"
      },
      "execution_count": null,
      "outputs": [
        {
          "output_type": "execute_result",
          "data": {
            "text/plain": [
              "tensor([1.], grad_fn=<NotImplemented>)"
            ]
          },
          "metadata": {},
          "execution_count": 149
        }
      ]
    },
    {
      "cell_type": "code",
      "source": [
        "x = torch.tensor([1.0, 1.0])\n",
        "neuron(x)"
      ],
      "metadata": {
        "outputId": "2af52e0d-c60b-4bba-8ed8-a0294ce67571",
        "colab": {
          "base_uri": "https://localhost:8080/"
        },
        "id": "HnC6INM9rG3U"
      },
      "execution_count": null,
      "outputs": [
        {
          "output_type": "execute_result",
          "data": {
            "text/plain": [
              "tensor([1.], grad_fn=<NotImplemented>)"
            ]
          },
          "metadata": {},
          "execution_count": 150
        }
      ]
    },
    {
      "cell_type": "markdown",
      "source": [
        "## **Задача 5**. Cделать нейрон, соответствующий оператору XOR."
      ],
      "metadata": {
        "id": "1b95Z8u7Q3OL"
      }
    },
    {
      "cell_type": "markdown",
      "source": [
        "Это невозможно"
      ],
      "metadata": {
        "id": "YVCKQ5iCscDf"
      }
    },
    {
      "cell_type": "code",
      "source": [
        "neuron.fc.weight.data = torch.tensor([[0.0, 0.0]])\n",
        "neuron.fc.bias.data = torch.tensor([0.0])"
      ],
      "metadata": {
        "id": "hWP7ee7tjCGv"
      },
      "execution_count": null,
      "outputs": []
    },
    {
      "cell_type": "code",
      "source": [
        "x = torch.tensor([0.0, 0.0])\n",
        "neuron(x)"
      ],
      "metadata": {
        "id": "HgDrZ7PBjGwJ"
      },
      "execution_count": null,
      "outputs": []
    },
    {
      "cell_type": "markdown",
      "source": [
        "## **Вопрос 1**. Какие нейронные сети могут иметь только линейную разделяющую поверхность?"
      ],
      "metadata": {
        "id": "OiPV2u5zfwyo"
      }
    },
    {
      "cell_type": "markdown",
      "source": [
        "Однослойные нейронные сети"
      ],
      "metadata": {
        "id": "eNi4IwB8f9yK"
      }
    },
    {
      "cell_type": "markdown",
      "source": [
        "## **Вопрос 2**. Имеет ли смысл соединять полносвязанные нейроны (нейроны, которые принимают на вход все выходы предыдущего слоя) с линейной функцией активации в многослойную нейронную сеть?"
      ],
      "metadata": {
        "id": "uEf1aXsdgLBh"
      }
    },
    {
      "cell_type": "markdown",
      "source": [
        "Нет, так как перемножение многих матриц эквивалентно перемножению двух."
      ],
      "metadata": {
        "id": "Jy06MWy-gQCh"
      }
    },
    {
      "cell_type": "markdown",
      "source": [
        "# Домашнее задание"
      ],
      "metadata": {
        "id": "DJ9Uxo7DEns4"
      }
    },
    {
      "cell_type": "code",
      "source": [
        "import torch"
      ],
      "metadata": {
        "id": "SJzopfme_toA"
      },
      "execution_count": null,
      "outputs": []
    },
    {
      "cell_type": "markdown",
      "source": [
        "Дедлайн домашнего задания - текущее воскресенье 23:59. "
      ],
      "metadata": {
        "id": "3hbaklz_96EN"
      }
    },
    {
      "cell_type": "markdown",
      "source": [
        "**Домашнее задание 0:** Создайте репозиторий на Github. Вся дальнейшая домашка загружается туда. Чуть позже в телеграм чате будет выложена форма для сдачи."
      ],
      "metadata": {
        "id": "E7VzrzlHyyci"
      }
    },
    {
      "cell_type": "markdown",
      "source": [
        "**Домашнее задание 1:** реализуйте XOR с помощью 3 нейронов. Запишите ответ в виде выражения, состоящего из объектов neuron() – моделей нейрона с пороговой функцией активации, внутри скобок может быть что угодно. Входы верхнего уровня называются x1 и x2. Пример фрагмента записи: neuron(1*x1 + 5*x2 - 0.1) + neuron(x1) (ответ будет выглядеть чуть сложнее, но других символов вроде && не потребуется)."
      ],
      "metadata": {
        "id": "me6riR-YEuYg"
      }
    },
    {
      "cell_type": "markdown",
      "source": [
        "Ответ: ```neuron(neuron(x1 + x2) + neuron(2 - x1 - x2) - 1)```"
      ],
      "metadata": {
        "id": "NJ8DM2-Od4ss"
      }
    },
    {
      "cell_type": "code",
      "source": [
        "class Neuron(torch.nn.Module):\n",
        "  def __init__(self):\n",
        "    super().__init__()\n",
        "\n",
        "  def forward(self, x):\n",
        "    return torch.heaviside(torch.Tensor([x]), torch.tensor([0.0]))"
      ],
      "metadata": {
        "id": "-OuZxgDstQ7j"
      },
      "execution_count": null,
      "outputs": []
    },
    {
      "cell_type": "code",
      "source": [
        "neuron = Neuron()"
      ],
      "metadata": {
        "id": "AFDmEN1CtYHZ"
      },
      "execution_count": null,
      "outputs": []
    },
    {
      "cell_type": "code",
      "source": [
        "x1 = 0\n",
        "x2 = 0\n",
        "neuron(neuron(x1 + x2) + neuron(2 - x1 - x2) - 1)"
      ],
      "metadata": {
        "colab": {
          "base_uri": "https://localhost:8080/"
        },
        "id": "k7OmvEQjCWD5",
        "outputId": "7b47302c-f195-4767-b5a2-af09a30197b2"
      },
      "execution_count": null,
      "outputs": [
        {
          "output_type": "execute_result",
          "data": {
            "text/plain": [
              "tensor([0.])"
            ]
          },
          "metadata": {},
          "execution_count": 62
        }
      ]
    },
    {
      "cell_type": "code",
      "source": [
        "x1 = 1\n",
        "x2 = 0\n",
        "neuron(neuron(x1 + x2) + neuron(2 - x1 - x2) - 1)"
      ],
      "metadata": {
        "id": "6yJbY6AWtedV",
        "outputId": "eefed498-8825-492c-bd99-59efad455e97",
        "colab": {
          "base_uri": "https://localhost:8080/"
        }
      },
      "execution_count": null,
      "outputs": [
        {
          "output_type": "execute_result",
          "data": {
            "text/plain": [
              "tensor([1.])"
            ]
          },
          "metadata": {},
          "execution_count": 64
        }
      ]
    },
    {
      "cell_type": "code",
      "source": [
        "x1 = 0\n",
        "x2 = 1\n",
        "neuron(neuron(x1 + x2) + neuron(2 - x1 - x2) - 1)"
      ],
      "metadata": {
        "colab": {
          "base_uri": "https://localhost:8080/"
        },
        "id": "8o4h-JGhCX40",
        "outputId": "16b4331e-ac1b-4287-ff12-9f6fb59e5d3e"
      },
      "execution_count": null,
      "outputs": [
        {
          "output_type": "execute_result",
          "data": {
            "text/plain": [
              "tensor([1.])"
            ]
          },
          "metadata": {},
          "execution_count": 65
        }
      ]
    },
    {
      "cell_type": "code",
      "source": [
        "x1 = 1\n",
        "x2 = 1\n",
        "neuron(neuron(x1 + x2) + neuron(2 - x1 - x2) - 1)"
      ],
      "metadata": {
        "colab": {
          "base_uri": "https://localhost:8080/"
        },
        "id": "M14s9ni-CdFp",
        "outputId": "d1005ed3-1cba-435f-99a2-5aea8a7ca697"
      },
      "execution_count": null,
      "outputs": [
        {
          "output_type": "execute_result",
          "data": {
            "text/plain": [
              "tensor([0.])"
            ]
          },
          "metadata": {},
          "execution_count": 66
        }
      ]
    },
    {
      "cell_type": "markdown",
      "source": [
        "**Домашнее задание 2:** нарисуйте backward граф для выражения `a*b+c*d`. [Теория и пример оформления](https://www.youtube.com/watch?v=MswxJw-8PvE). Сравните полученные теоретические значения с аттрибутами grad у исходных тензоров."
      ],
      "metadata": {
        "id": "UQmVNc2kEyQP"
      }
    },
    {
      "cell_type": "markdown",
      "source": [
        "![image.png](data:image/png;base64,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)"
      ],
      "metadata": {
        "id": "2r_HrxG3Rq92"
      }
    },
    {
      "cell_type": "code",
      "source": [
        "a = torch.tensor([2.0], requires_grad=True)\n",
        "b = torch.tensor([4.0], requires_grad=True)\n",
        "c = torch.tensor([1.0], requires_grad=True)\n",
        "d = torch.tensor([5.0], requires_grad=False)"
      ],
      "metadata": {
        "id": "rHAT-rNxnh-X"
      },
      "execution_count": null,
      "outputs": []
    },
    {
      "cell_type": "code",
      "source": [
        "print(a.grad)"
      ],
      "metadata": {
        "id": "yQUF6a8rnjyF",
        "colab": {
          "base_uri": "https://localhost:8080/"
        },
        "outputId": "9c6fc187-1d6b-4f45-86cb-7438eb58dc54"
      },
      "execution_count": null,
      "outputs": [
        {
          "output_type": "stream",
          "name": "stdout",
          "text": [
            "None\n"
          ]
        }
      ]
    },
    {
      "cell_type": "code",
      "source": [
        "loss = a*b + c*d\n",
        "loss.backward()"
      ],
      "metadata": {
        "id": "WQewq5DCnnPF"
      },
      "execution_count": null,
      "outputs": []
    },
    {
      "cell_type": "code",
      "source": [
        "print(a.grad)\n",
        "print(b.grad)\n",
        "print(c.grad)\n",
        "print(d.grad)"
      ],
      "metadata": {
        "id": "tDxWZCwQnojN",
        "colab": {
          "base_uri": "https://localhost:8080/"
        },
        "outputId": "e03f7c1d-7d6b-4c58-ca63-82d0835cd72f"
      },
      "execution_count": null,
      "outputs": [
        {
          "output_type": "stream",
          "name": "stdout",
          "text": [
            "tensor([4.])\n",
            "tensor([2.])\n",
            "tensor([5.])\n",
            "None\n"
          ]
        }
      ]
    },
    {
      "cell_type": "markdown",
      "source": [
        "**Домашнее задание 3:** Поэксперементируйте с размером тензоров, которые влезут на видеоркарту в Colab. Найдите максимальный размер тензора для типа данных float32, float64, float16, int32, int64. На сколько они отличаются."
      ],
      "metadata": {
        "id": "NxKEOwWDwv3Y"
      }
    },
    {
      "cell_type": "code",
      "source": [
        "tensors = []\n",
        "iters_cnt = 0\n",
        "while True:\n",
        "    try:\n",
        "        tensors.append(\n",
        "            torch.tensor([1.0] * int(1e8), dtype=torch.float32, device='cuda')\n",
        "        )\n",
        "        iters_cnt += 1\n",
        "    except RuntimeError:\n",
        "        print(iters_cnt)\n",
        "        break\n",
        "del tensors\n",
        "torch.cuda.empty_cache()\n",
        "print('Max tensor size with dtype float32: ', iters_cnt * 1e8)"
      ],
      "metadata": {
        "colab": {
          "base_uri": "https://localhost:8080/"
        },
        "id": "oN0iwBCwTbAD",
        "outputId": "4f8bbbbb-f600-4c0d-877a-2c0d0f79bdfc"
      },
      "execution_count": null,
      "outputs": [
        {
          "output_type": "stream",
          "name": "stdout",
          "text": [
            "37\n",
            "Max tensor size with dtype float32:  3700000000.0\n"
          ]
        }
      ]
    },
    {
      "cell_type": "code",
      "source": [
        "tensors = []\n",
        "iters_cnt = 0\n",
        "while True:\n",
        "    try:\n",
        "        tensors.append(\n",
        "            torch.tensor([1.0] * int(1e8), dtype=torch.float64, device='cuda')\n",
        "        )\n",
        "        iters_cnt += 1\n",
        "    except RuntimeError:\n",
        "        print(iters_cnt)\n",
        "        break\n",
        "del tensors\n",
        "torch.cuda.empty_cache()\n",
        "print('Max tensor size with dtype float64: ', iters_cnt * 1e8)"
      ],
      "metadata": {
        "colab": {
          "base_uri": "https://localhost:8080/"
        },
        "id": "5NXiupcPUKTh",
        "outputId": "5ecefb03-d976-45b3-e19e-91a00b97f0b4"
      },
      "execution_count": null,
      "outputs": [
        {
          "output_type": "stream",
          "name": "stdout",
          "text": [
            "18\n",
            "Max tensor size with dtype float64:  1800000000.0\n"
          ]
        }
      ]
    },
    {
      "cell_type": "code",
      "source": [
        "tensors = []\n",
        "iters_cnt = 0\n",
        "while True:\n",
        "    try:\n",
        "        tensors.append(\n",
        "            torch.tensor([1.0] * int(1e8), dtype=torch.float16, device='cuda')\n",
        "        )\n",
        "        iters_cnt += 1\n",
        "    except RuntimeError:\n",
        "        print(iters_cnt)\n",
        "        break\n",
        "del tensors\n",
        "torch.cuda.empty_cache()\n",
        "print('Max tensor size with dtype float16: ', iters_cnt * 1e8)"
      ],
      "metadata": {
        "colab": {
          "base_uri": "https://localhost:8080/"
        },
        "id": "oS4zlE_yUNcs",
        "outputId": "ac5e9c43-b0bf-45c3-9034-b2a7a4e5e7de"
      },
      "execution_count": null,
      "outputs": [
        {
          "output_type": "stream",
          "name": "stdout",
          "text": [
            "75\n",
            "Max tensor size with dtype float16:  7500000000.0\n"
          ]
        }
      ]
    },
    {
      "cell_type": "code",
      "source": [
        "tensors = []\n",
        "iters_cnt = 0\n",
        "while True:\n",
        "    try:\n",
        "        tensors.append(\n",
        "            torch.tensor([1] * int(1e8), dtype=torch.int32, device='cuda')\n",
        "        )\n",
        "        iters_cnt += 1\n",
        "    except RuntimeError:\n",
        "        print(iters_cnt)\n",
        "        break\n",
        "del tensors\n",
        "torch.cuda.empty_cache()\n",
        "print('Max tensor size with dtype int32: ', iters_cnt * 1e8)"
      ],
      "metadata": {
        "colab": {
          "base_uri": "https://localhost:8080/"
        },
        "id": "5FPQtK2_UQxe",
        "outputId": "ac31b3be-f239-4d00-e15f-6693f4d8ae90"
      },
      "execution_count": null,
      "outputs": [
        {
          "output_type": "stream",
          "name": "stdout",
          "text": [
            "37\n",
            "Max tensor size with dtype int32:  3700000000.0\n"
          ]
        }
      ]
    },
    {
      "cell_type": "code",
      "source": [
        "tensors = []\n",
        "iters_cnt = 0\n",
        "while True:\n",
        "    try:\n",
        "        tensors.append(\n",
        "            torch.tensor([1] * int(1e8), dtype=torch.int64, device='cuda')\n",
        "        )\n",
        "        iters_cnt += 1\n",
        "    except RuntimeError:\n",
        "        print(iters_cnt)\n",
        "        break\n",
        "del tensors\n",
        "torch.cuda.empty_cache()\n",
        "print('Max tensor size with dtype int64: ', iters_cnt * 1e8)"
      ],
      "metadata": {
        "colab": {
          "base_uri": "https://localhost:8080/"
        },
        "id": "ZDmtcvNTUSQx",
        "outputId": "1ca19281-48a4-40c4-d022-aebd21ce00af"
      },
      "execution_count": null,
      "outputs": [
        {
          "output_type": "stream",
          "name": "stdout",
          "text": [
            "18\n",
            "Max tensor size with dtype int64:  1800000000.0\n"
          ]
        }
      ]
    },
    {
      "cell_type": "markdown",
      "source": [
        "**Домашнее задание 4:** Напишите хороший пример неэффективного кода для занятия памяти видеокарты, который вызовет ошибку out of memory"
      ],
      "metadata": {
        "id": "CBR5pWOlzOtl"
      }
    },
    {
      "cell_type": "code",
      "source": [
        "import torch\n",
        "from sklearn.metrics import accuracy_score\n",
        "import random\n",
        "from tqdm.auto import tqdm"
      ],
      "metadata": {
        "id": "4zKB3M7MYwWO"
      },
      "execution_count": null,
      "outputs": []
    },
    {
      "cell_type": "code",
      "source": [
        "model = torch.nn.Linear(64*64*3, 10000, device='cuda')"
      ],
      "metadata": {
        "id": "pc9vUXWMYOA7"
      },
      "execution_count": null,
      "outputs": []
    },
    {
      "cell_type": "code",
      "source": [
        "iters_cnt = int(1e6)"
      ],
      "metadata": {
        "id": "e11xNPmGZSFU"
      },
      "execution_count": null,
      "outputs": []
    },
    {
      "cell_type": "code",
      "source": [
        "y_true = []\n",
        "y_pred = []\n",
        "\n",
        "for i in tqdm(range(iters_cnt)):\n",
        "    x, y = torch.rand(64*64*3), torch.randint(0, 10000, (1,))\n",
        "    x_gpu = x.to('cuda')\n",
        "\n",
        "    output = model(x_gpu)\n",
        "\n",
        "    y_true.append(y)\n",
        "    y_pred.append(output)\n",
        "\n",
        "print(accuracy_score(y_true, y_pred))"
      ],
      "metadata": {
        "colab": {
          "base_uri": "https://localhost:8080/",
          "height": 429,
          "referenced_widgets": [
            "705afd5bfdc34cffb6819af641bfcba7",
            "ac377df38a5240ca85e154d7687e7649",
            "e13ff9e2d9b143fbb4d62ed0be9b58d1",
            "255793bf28534709a4849f14d6471eea",
            "cbdba1d35200459db5c9174b67ab8df6",
            "3928946b91c14866862f4de423bbcb4a",
            "3260acf60a8e470a868347618f33b7ab",
            "0d43ca1bdc084e94906b0d041d26dd3c",
            "35da66dbe2b8484ebcc701f373058cf3",
            "c98dc0ac9c084bd9842c7b01e9fed3f7",
            "b22b81da72db4b7b9030de8e68c8b47b"
          ]
        },
        "id": "FvlymyTmYCl0",
        "outputId": "55fb7efe-4a02-4a40-9d2d-5364f7aa241f"
      },
      "execution_count": null,
      "outputs": [
        {
          "output_type": "display_data",
          "data": {
            "text/plain": [
              "  0%|          | 0/1000000 [00:00<?, ?it/s]"
            ],
            "application/vnd.jupyter.widget-view+json": {
              "version_major": 2,
              "version_minor": 0,
              "model_id": "705afd5bfdc34cffb6819af641bfcba7"
            }
          },
          "metadata": {}
        },
        {
          "output_type": "error",
          "ename": "RuntimeError",
          "evalue": "ignored",
          "traceback": [
            "\u001b[0;31m---------------------------------------------------------------------------\u001b[0m",
            "\u001b[0;31mRuntimeError\u001b[0m                              Traceback (most recent call last)",
            "\u001b[0;32m<ipython-input-4-7ef2f7ae7134>\u001b[0m in \u001b[0;36m<module>\u001b[0;34m\u001b[0m\n\u001b[1;32m      6\u001b[0m     \u001b[0mx_gpu\u001b[0m \u001b[0;34m=\u001b[0m \u001b[0mx\u001b[0m\u001b[0;34m.\u001b[0m\u001b[0mto\u001b[0m\u001b[0;34m(\u001b[0m\u001b[0;34m'cuda'\u001b[0m\u001b[0;34m)\u001b[0m\u001b[0;34m\u001b[0m\u001b[0;34m\u001b[0m\u001b[0m\n\u001b[1;32m      7\u001b[0m \u001b[0;34m\u001b[0m\u001b[0m\n\u001b[0;32m----> 8\u001b[0;31m     \u001b[0moutput\u001b[0m \u001b[0;34m=\u001b[0m \u001b[0mmodel\u001b[0m\u001b[0;34m(\u001b[0m\u001b[0mx_gpu\u001b[0m\u001b[0;34m)\u001b[0m\u001b[0;34m\u001b[0m\u001b[0;34m\u001b[0m\u001b[0m\n\u001b[0m\u001b[1;32m      9\u001b[0m \u001b[0;34m\u001b[0m\u001b[0m\n\u001b[1;32m     10\u001b[0m     \u001b[0my_true\u001b[0m\u001b[0;34m.\u001b[0m\u001b[0mappend\u001b[0m\u001b[0;34m(\u001b[0m\u001b[0my\u001b[0m\u001b[0;34m)\u001b[0m\u001b[0;34m\u001b[0m\u001b[0;34m\u001b[0m\u001b[0m\n",
            "\u001b[0;32m/usr/local/lib/python3.8/dist-packages/torch/nn/modules/module.py\u001b[0m in \u001b[0;36m_call_impl\u001b[0;34m(self, *input, **kwargs)\u001b[0m\n\u001b[1;32m   1128\u001b[0m         if not (self._backward_hooks or self._forward_hooks or self._forward_pre_hooks or _global_backward_hooks\n\u001b[1;32m   1129\u001b[0m                 or _global_forward_hooks or _global_forward_pre_hooks):\n\u001b[0;32m-> 1130\u001b[0;31m             \u001b[0;32mreturn\u001b[0m \u001b[0mforward_call\u001b[0m\u001b[0;34m(\u001b[0m\u001b[0;34m*\u001b[0m\u001b[0minput\u001b[0m\u001b[0;34m,\u001b[0m \u001b[0;34m**\u001b[0m\u001b[0mkwargs\u001b[0m\u001b[0;34m)\u001b[0m\u001b[0;34m\u001b[0m\u001b[0;34m\u001b[0m\u001b[0m\n\u001b[0m\u001b[1;32m   1131\u001b[0m         \u001b[0;31m# Do not call functions when jit is used\u001b[0m\u001b[0;34m\u001b[0m\u001b[0;34m\u001b[0m\u001b[0;34m\u001b[0m\u001b[0m\n\u001b[1;32m   1132\u001b[0m         \u001b[0mfull_backward_hooks\u001b[0m\u001b[0;34m,\u001b[0m \u001b[0mnon_full_backward_hooks\u001b[0m \u001b[0;34m=\u001b[0m \u001b[0;34m[\u001b[0m\u001b[0;34m]\u001b[0m\u001b[0;34m,\u001b[0m \u001b[0;34m[\u001b[0m\u001b[0;34m]\u001b[0m\u001b[0;34m\u001b[0m\u001b[0;34m\u001b[0m\u001b[0m\n",
            "\u001b[0;32m/usr/local/lib/python3.8/dist-packages/torch/nn/modules/linear.py\u001b[0m in \u001b[0;36mforward\u001b[0;34m(self, input)\u001b[0m\n\u001b[1;32m    112\u001b[0m \u001b[0;34m\u001b[0m\u001b[0m\n\u001b[1;32m    113\u001b[0m     \u001b[0;32mdef\u001b[0m \u001b[0mforward\u001b[0m\u001b[0;34m(\u001b[0m\u001b[0mself\u001b[0m\u001b[0;34m,\u001b[0m \u001b[0minput\u001b[0m\u001b[0;34m:\u001b[0m \u001b[0mTensor\u001b[0m\u001b[0;34m)\u001b[0m \u001b[0;34m->\u001b[0m \u001b[0mTensor\u001b[0m\u001b[0;34m:\u001b[0m\u001b[0;34m\u001b[0m\u001b[0;34m\u001b[0m\u001b[0m\n\u001b[0;32m--> 114\u001b[0;31m         \u001b[0;32mreturn\u001b[0m \u001b[0mF\u001b[0m\u001b[0;34m.\u001b[0m\u001b[0mlinear\u001b[0m\u001b[0;34m(\u001b[0m\u001b[0minput\u001b[0m\u001b[0;34m,\u001b[0m \u001b[0mself\u001b[0m\u001b[0;34m.\u001b[0m\u001b[0mweight\u001b[0m\u001b[0;34m,\u001b[0m \u001b[0mself\u001b[0m\u001b[0;34m.\u001b[0m\u001b[0mbias\u001b[0m\u001b[0;34m)\u001b[0m\u001b[0;34m\u001b[0m\u001b[0;34m\u001b[0m\u001b[0m\n\u001b[0m\u001b[1;32m    115\u001b[0m \u001b[0;34m\u001b[0m\u001b[0m\n\u001b[1;32m    116\u001b[0m     \u001b[0;32mdef\u001b[0m \u001b[0mextra_repr\u001b[0m\u001b[0;34m(\u001b[0m\u001b[0mself\u001b[0m\u001b[0;34m)\u001b[0m \u001b[0;34m->\u001b[0m \u001b[0mstr\u001b[0m\u001b[0;34m:\u001b[0m\u001b[0;34m\u001b[0m\u001b[0;34m\u001b[0m\u001b[0m\n",
            "\u001b[0;31mRuntimeError\u001b[0m: CUDA out of memory. Tried to allocate 2.00 MiB (GPU 0; 14.76 GiB total capacity; 13.72 GiB already allocated; 3.75 MiB free; 13.96 GiB reserved in total by PyTorch) If reserved memory is >> allocated memory try setting max_split_size_mb to avoid fragmentation.  See documentation for Memory Management and PYTORCH_CUDA_ALLOC_CONF"
          ]
        }
      ]
    },
    {
      "cell_type": "markdown",
      "source": [
        "**Домашнее задание 5:** Используя один линейный слой `nn.Linear` и один входной тензор `x` подберите подберите размерности так, чтобы занимать всю видеопамять.\n",
        "Попробуйте применить линейный слой к тензору `x`. Что произойдет? Кратко опишите ваши эксперименты. Что вы поняли?"
      ],
      "metadata": {
        "id": "0_hOtvvR89jq"
      }
    },
    {
      "cell_type": "code",
      "source": [
        "linear = torch.nn.Linear(int(1e6), int(1.9e3), device='cuda')"
      ],
      "metadata": {
        "id": "1pqUVp8iIlki"
      },
      "execution_count": null,
      "outputs": []
    },
    {
      "cell_type": "code",
      "source": [
        "x = torch.rand((int(1.9e3), int(1e6)), device='cuda')"
      ],
      "metadata": {
        "id": "Jocupsc_KDIp"
      },
      "execution_count": null,
      "outputs": []
    },
    {
      "cell_type": "code",
      "source": [
        "linear(x)"
      ],
      "metadata": {
        "colab": {
          "base_uri": "https://localhost:8080/",
          "height": 371
        },
        "id": "wQsofxmTO4Gu",
        "outputId": "900583f1-ca0c-4674-ef46-d8fcac33f640"
      },
      "execution_count": null,
      "outputs": [
        {
          "output_type": "error",
          "ename": "RuntimeError",
          "evalue": "ignored",
          "traceback": [
            "\u001b[0;31m---------------------------------------------------------------------------\u001b[0m",
            "\u001b[0;31mRuntimeError\u001b[0m                              Traceback (most recent call last)",
            "\u001b[0;32m<ipython-input-4-d59f970deed8>\u001b[0m in \u001b[0;36m<module>\u001b[0;34m\u001b[0m\n\u001b[0;32m----> 1\u001b[0;31m \u001b[0mlinear\u001b[0m\u001b[0;34m(\u001b[0m\u001b[0mx\u001b[0m\u001b[0;34m)\u001b[0m\u001b[0;34m\u001b[0m\u001b[0;34m\u001b[0m\u001b[0m\n\u001b[0m",
            "\u001b[0;32m/usr/local/lib/python3.8/dist-packages/torch/nn/modules/module.py\u001b[0m in \u001b[0;36m_call_impl\u001b[0;34m(self, *input, **kwargs)\u001b[0m\n\u001b[1;32m   1128\u001b[0m         if not (self._backward_hooks or self._forward_hooks or self._forward_pre_hooks or _global_backward_hooks\n\u001b[1;32m   1129\u001b[0m                 or _global_forward_hooks or _global_forward_pre_hooks):\n\u001b[0;32m-> 1130\u001b[0;31m             \u001b[0;32mreturn\u001b[0m \u001b[0mforward_call\u001b[0m\u001b[0;34m(\u001b[0m\u001b[0;34m*\u001b[0m\u001b[0minput\u001b[0m\u001b[0;34m,\u001b[0m \u001b[0;34m**\u001b[0m\u001b[0mkwargs\u001b[0m\u001b[0;34m)\u001b[0m\u001b[0;34m\u001b[0m\u001b[0;34m\u001b[0m\u001b[0m\n\u001b[0m\u001b[1;32m   1131\u001b[0m         \u001b[0;31m# Do not call functions when jit is used\u001b[0m\u001b[0;34m\u001b[0m\u001b[0;34m\u001b[0m\u001b[0;34m\u001b[0m\u001b[0m\n\u001b[1;32m   1132\u001b[0m         \u001b[0mfull_backward_hooks\u001b[0m\u001b[0;34m,\u001b[0m \u001b[0mnon_full_backward_hooks\u001b[0m \u001b[0;34m=\u001b[0m \u001b[0;34m[\u001b[0m\u001b[0;34m]\u001b[0m\u001b[0;34m,\u001b[0m \u001b[0;34m[\u001b[0m\u001b[0;34m]\u001b[0m\u001b[0;34m\u001b[0m\u001b[0;34m\u001b[0m\u001b[0m\n",
            "\u001b[0;32m/usr/local/lib/python3.8/dist-packages/torch/nn/modules/linear.py\u001b[0m in \u001b[0;36mforward\u001b[0;34m(self, input)\u001b[0m\n\u001b[1;32m    112\u001b[0m \u001b[0;34m\u001b[0m\u001b[0m\n\u001b[1;32m    113\u001b[0m     \u001b[0;32mdef\u001b[0m \u001b[0mforward\u001b[0m\u001b[0;34m(\u001b[0m\u001b[0mself\u001b[0m\u001b[0;34m,\u001b[0m \u001b[0minput\u001b[0m\u001b[0;34m:\u001b[0m \u001b[0mTensor\u001b[0m\u001b[0;34m)\u001b[0m \u001b[0;34m->\u001b[0m \u001b[0mTensor\u001b[0m\u001b[0;34m:\u001b[0m\u001b[0;34m\u001b[0m\u001b[0;34m\u001b[0m\u001b[0m\n\u001b[0;32m--> 114\u001b[0;31m         \u001b[0;32mreturn\u001b[0m \u001b[0mF\u001b[0m\u001b[0;34m.\u001b[0m\u001b[0mlinear\u001b[0m\u001b[0;34m(\u001b[0m\u001b[0minput\u001b[0m\u001b[0;34m,\u001b[0m \u001b[0mself\u001b[0m\u001b[0;34m.\u001b[0m\u001b[0mweight\u001b[0m\u001b[0;34m,\u001b[0m \u001b[0mself\u001b[0m\u001b[0;34m.\u001b[0m\u001b[0mbias\u001b[0m\u001b[0;34m)\u001b[0m\u001b[0;34m\u001b[0m\u001b[0;34m\u001b[0m\u001b[0m\n\u001b[0m\u001b[1;32m    115\u001b[0m \u001b[0;34m\u001b[0m\u001b[0m\n\u001b[1;32m    116\u001b[0m     \u001b[0;32mdef\u001b[0m \u001b[0mextra_repr\u001b[0m\u001b[0;34m(\u001b[0m\u001b[0mself\u001b[0m\u001b[0;34m)\u001b[0m \u001b[0;34m->\u001b[0m \u001b[0mstr\u001b[0m\u001b[0;34m:\u001b[0m\u001b[0;34m\u001b[0m\u001b[0;34m\u001b[0m\u001b[0m\n",
            "\u001b[0;31mRuntimeError\u001b[0m: CUDA out of memory. Tried to allocate 14.00 MiB (GPU 0; 14.76 GiB total capacity; 14.16 GiB already allocated; 3.75 MiB free; 14.16 GiB reserved in total by PyTorch) If reserved memory is >> allocated memory try setting max_split_size_mb to avoid fragmentation.  See documentation for Memory Management and PYTORCH_CUDA_ALLOC_CONF"
          ]
        }
      ]
    },
    {
      "cell_type": "markdown",
      "source": [
        "PyTorch сохраняет тензоры, необходимые для вычисления градиента при обратном проходе. Но так как веса слоя и входные данные занимают почти всю память, для новых тензоров нет свободного места."
      ],
      "metadata": {
        "id": "sYPyZRK_TTBy"
      }
    },
    {
      "cell_type": "markdown",
      "source": [
        "# Рекомендуемые ссылки"
      ],
      "metadata": {
        "id": "_Z2Ot37UODKM"
      }
    },
    {
      "cell_type": "markdown",
      "source": [
        "- [Нейронные сети и компьютерное зрение, Samsung AI Center, часть 1](https://stepik.org/course/50352/syllabus)\n",
        "- [Cимулятор](https://playground.tensorflow.org/) нейронов и нейронных сетей"
      ],
      "metadata": {
        "id": "SnFY95T7kNji"
      }
    }
  ]
}